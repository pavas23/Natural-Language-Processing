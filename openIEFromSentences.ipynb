{
 "cells": [
  {
   "cell_type": "code",
   "id": "initial_id",
   "metadata": {
    "collapsed": true,
    "ExecuteTime": {
     "end_time": "2024-09-25T16:00:27.654920Z",
     "start_time": "2024-09-25T16:00:27.522796Z"
    }
   },
   "source": [
    "import pandas as pd\n",
    "from nltk.tokenize import word_tokenize"
   ],
   "outputs": [
    {
     "ename": "ModuleNotFoundError",
     "evalue": "No module named 'nltk'",
     "output_type": "error",
     "traceback": [
      "\u001B[0;31m---------------------------------------------------------------------------\u001B[0m",
      "\u001B[0;31mModuleNotFoundError\u001B[0m                       Traceback (most recent call last)",
      "Cell \u001B[0;32mIn[37], line 2\u001B[0m\n\u001B[1;32m      1\u001B[0m \u001B[38;5;28;01mimport\u001B[39;00m \u001B[38;5;21;01mpandas\u001B[39;00m \u001B[38;5;28;01mas\u001B[39;00m \u001B[38;5;21;01mpd\u001B[39;00m\n\u001B[0;32m----> 2\u001B[0m \u001B[38;5;28;01mfrom\u001B[39;00m \u001B[38;5;21;01mnltk\u001B[39;00m\u001B[38;5;21;01m.\u001B[39;00m\u001B[38;5;21;01mtokenize\u001B[39;00m \u001B[38;5;28;01mimport\u001B[39;00m word_tokenize\n",
      "\u001B[0;31mModuleNotFoundError\u001B[0m: No module named 'nltk'"
     ]
    }
   ],
   "execution_count": 37
  },
  {
   "metadata": {
    "ExecuteTime": {
     "end_time": "2024-09-25T15:56:59.339010Z",
     "start_time": "2024-09-25T15:56:59.306914Z"
    }
   },
   "cell_type": "code",
   "source": [
    "def load_dataset(file_path):\n",
    "    sentences = []\n",
    "    labels = []\n",
    "    \n",
    "    with open(file_path, 'r') as f:\n",
    "        lines = f.readlines()\n",
    "        sentence = []\n",
    "        \n",
    "        for line in lines:\n",
    "            line = line.strip() # remove leading/trailing whitespaces\n",
    "            if line:\n",
    "                if not line.startswith('ARG') and not line.startswith('REL') and not line.startswith('NONE'):\n",
    "                    sentence = line\n",
    "                else:\n",
    "                    current_label = line\n",
    "                    sentences.append(sentence)\n",
    "                    labels.append(current_label)\n",
    "                    \n",
    "    return sentences, labels"
   ],
   "id": "44174668a4419709",
   "outputs": [],
   "execution_count": 28
  },
  {
   "metadata": {
    "ExecuteTime": {
     "end_time": "2024-09-25T15:57:00.128103Z",
     "start_time": "2024-09-25T15:56:59.671264Z"
    }
   },
   "cell_type": "code",
   "source": [
    "# load the dataset into a pandas dataframe\n",
    "sentences, labels = load_dataset('./Dataset/original_cleaned')\n",
    "df = pd.DataFrame({\n",
    "    'Sentence': sentences,\n",
    "    'Labels': labels\n",
    "})"
   ],
   "id": "ce4b98ac876c1260",
   "outputs": [],
   "execution_count": 29
  },
  {
   "metadata": {
    "ExecuteTime": {
     "end_time": "2024-09-25T15:57:00.232642Z",
     "start_time": "2024-09-25T15:57:00.227505Z"
    }
   },
   "cell_type": "code",
   "source": "df.shape",
   "id": "a33caf102ff39d79",
   "outputs": [
    {
     "data": {
      "text/plain": [
       "(166889, 2)"
      ]
     },
     "execution_count": 30,
     "metadata": {},
     "output_type": "execute_result"
    }
   ],
   "execution_count": 30
  },
  {
   "metadata": {
    "ExecuteTime": {
     "end_time": "2024-09-25T15:57:02.326868Z",
     "start_time": "2024-09-25T15:57:02.313319Z"
    }
   },
   "cell_type": "code",
   "source": "df",
   "id": "2450b74c76bca592",
   "outputs": [
    {
     "data": {
      "text/plain": [
       "                                                 Sentence  \\\n",
       "0       Simon is quoted as saying `` if you 'd ever se...   \n",
       "1       Simon is quoted as saying `` if you 'd ever se...   \n",
       "2       Simon is quoted as saying `` if you 'd ever se...   \n",
       "3       Simon is quoted as saying `` if you 'd ever se...   \n",
       "4                            The couple had no children .   \n",
       "...                                                   ...   \n",
       "166884  TIME ARG1 REL NONE NONE ARG2 ARG2 ARG2 ARG2 AR...   \n",
       "166885  TIME ARG1 REL NONE NONE ARG2 ARG2 ARG2 ARG2 AR...   \n",
       "166886  This was the time when Yang Luchan made the Ch...   \n",
       "166887  This was the time when Yang Luchan made the Ch...   \n",
       "166888  This was the time when Yang Luchan made the Ch...   \n",
       "\n",
       "                                                   Labels  \n",
       "0       ARG1 REL REL ARG2 ARG2 ARG2 ARG2 ARG2 ARG2 ARG...  \n",
       "1       NONE NONE NONE NONE NONE NONE NONE NONE NONE N...  \n",
       "2       NONE NONE NONE NONE NONE NONE NONE ARG1 REL TI...  \n",
       "3       ARG1 NONE NONE REL REL NONE NONE NONE NONE NON...  \n",
       "4                            ARG1 ARG1 REL ARG2 ARG2 NONE  \n",
       "...                                                   ...  \n",
       "166884  NONE NONE NONE NONE NONE ARG1 REL ARG2 ARG2 AR...  \n",
       "166885  NONE NONE NONE NONE NONE NONE NONE NONE NONE N...  \n",
       "166886  ARG1 REL ARG2 ARG2 ARG2 ARG2 ARG2 ARG2 ARG2 AR...  \n",
       "166887  NONE NONE TIME TIME NONE ARG1 ARG1 REL ARG2 AR...  \n",
       "166888  NONE NONE NONE NONE NONE NONE NONE NONE ARG1 A...  \n",
       "\n",
       "[166889 rows x 2 columns]"
      ],
      "text/html": [
       "<div>\n",
       "<style scoped>\n",
       "    .dataframe tbody tr th:only-of-type {\n",
       "        vertical-align: middle;\n",
       "    }\n",
       "\n",
       "    .dataframe tbody tr th {\n",
       "        vertical-align: top;\n",
       "    }\n",
       "\n",
       "    .dataframe thead th {\n",
       "        text-align: right;\n",
       "    }\n",
       "</style>\n",
       "<table border=\"1\" class=\"dataframe\">\n",
       "  <thead>\n",
       "    <tr style=\"text-align: right;\">\n",
       "      <th></th>\n",
       "      <th>Sentence</th>\n",
       "      <th>Labels</th>\n",
       "    </tr>\n",
       "  </thead>\n",
       "  <tbody>\n",
       "    <tr>\n",
       "      <th>0</th>\n",
       "      <td>Simon is quoted as saying `` if you 'd ever se...</td>\n",
       "      <td>ARG1 REL REL ARG2 ARG2 ARG2 ARG2 ARG2 ARG2 ARG...</td>\n",
       "    </tr>\n",
       "    <tr>\n",
       "      <th>1</th>\n",
       "      <td>Simon is quoted as saying `` if you 'd ever se...</td>\n",
       "      <td>NONE NONE NONE NONE NONE NONE NONE NONE NONE N...</td>\n",
       "    </tr>\n",
       "    <tr>\n",
       "      <th>2</th>\n",
       "      <td>Simon is quoted as saying `` if you 'd ever se...</td>\n",
       "      <td>NONE NONE NONE NONE NONE NONE NONE ARG1 REL TI...</td>\n",
       "    </tr>\n",
       "    <tr>\n",
       "      <th>3</th>\n",
       "      <td>Simon is quoted as saying `` if you 'd ever se...</td>\n",
       "      <td>ARG1 NONE NONE REL REL NONE NONE NONE NONE NON...</td>\n",
       "    </tr>\n",
       "    <tr>\n",
       "      <th>4</th>\n",
       "      <td>The couple had no children .</td>\n",
       "      <td>ARG1 ARG1 REL ARG2 ARG2 NONE</td>\n",
       "    </tr>\n",
       "    <tr>\n",
       "      <th>...</th>\n",
       "      <td>...</td>\n",
       "      <td>...</td>\n",
       "    </tr>\n",
       "    <tr>\n",
       "      <th>166884</th>\n",
       "      <td>TIME ARG1 REL NONE NONE ARG2 ARG2 ARG2 ARG2 AR...</td>\n",
       "      <td>NONE NONE NONE NONE NONE ARG1 REL ARG2 ARG2 AR...</td>\n",
       "    </tr>\n",
       "    <tr>\n",
       "      <th>166885</th>\n",
       "      <td>TIME ARG1 REL NONE NONE ARG2 ARG2 ARG2 ARG2 AR...</td>\n",
       "      <td>NONE NONE NONE NONE NONE NONE NONE NONE NONE N...</td>\n",
       "    </tr>\n",
       "    <tr>\n",
       "      <th>166886</th>\n",
       "      <td>This was the time when Yang Luchan made the Ch...</td>\n",
       "      <td>ARG1 REL ARG2 ARG2 ARG2 ARG2 ARG2 ARG2 ARG2 AR...</td>\n",
       "    </tr>\n",
       "    <tr>\n",
       "      <th>166887</th>\n",
       "      <td>This was the time when Yang Luchan made the Ch...</td>\n",
       "      <td>NONE NONE TIME TIME NONE ARG1 ARG1 REL ARG2 AR...</td>\n",
       "    </tr>\n",
       "    <tr>\n",
       "      <th>166888</th>\n",
       "      <td>This was the time when Yang Luchan made the Ch...</td>\n",
       "      <td>NONE NONE NONE NONE NONE NONE NONE NONE ARG1 A...</td>\n",
       "    </tr>\n",
       "  </tbody>\n",
       "</table>\n",
       "<p>166889 rows × 2 columns</p>\n",
       "</div>"
      ]
     },
     "execution_count": 31,
     "metadata": {},
     "output_type": "execute_result"
    }
   ],
   "execution_count": 31
  },
  {
   "metadata": {
    "ExecuteTime": {
     "end_time": "2024-09-25T15:59:34.198602Z",
     "start_time": "2024-09-25T15:59:34.066216Z"
    }
   },
   "cell_type": "code",
   "source": [
    "# convert all sentences to lower case\n",
    "df['Sentence'] = df['Sentence'].str.lower()"
   ],
   "id": "3909297a073ea9d5",
   "outputs": [],
   "execution_count": 33
  },
  {
   "metadata": {
    "ExecuteTime": {
     "end_time": "2024-09-25T16:00:01.373701Z",
     "start_time": "2024-09-25T16:00:01.356251Z"
    }
   },
   "cell_type": "code",
   "source": "# tokenization\n",
   "id": "5dfa7e3f40ba3830",
   "outputs": [],
   "execution_count": 35
  },
  {
   "metadata": {},
   "cell_type": "code",
   "outputs": [],
   "execution_count": null,
   "source": "",
   "id": "1ed7b5d4706bdfcd"
  }
 ],
 "metadata": {
  "kernelspec": {
   "display_name": "Python 3",
   "language": "python",
   "name": "python3"
  },
  "language_info": {
   "codemirror_mode": {
    "name": "ipython",
    "version": 2
   },
   "file_extension": ".py",
   "mimetype": "text/x-python",
   "name": "python",
   "nbconvert_exporter": "python",
   "pygments_lexer": "ipython2",
   "version": "2.7.6"
  }
 },
 "nbformat": 4,
 "nbformat_minor": 5
}
