{
 "cells": [
  {
   "cell_type": "code",
   "execution_count": 2,
   "metadata": {},
   "outputs": [],
   "source": [
    "import numpy as np\n",
    "import jax.numpy as jnp\n",
    "from jax import grad, jit, vmap\n",
    "from jax import random\n",
    "from jax.nn import softmax, one_hot"
   ]
  },
  {
   "cell_type": "code",
   "execution_count": 3,
   "metadata": {},
   "outputs": [],
   "source": [
    "from datasets import load_dataset\n",
    "\n",
    "\n",
    "dataset = load_dataset(\"wikitext\", \"wikitext-2-raw-v1\")\n",
    "train_data = dataset['train']\n",
    "val_data = dataset['validation']\n",
    "test_data = dataset['test']"
   ]
  },
  {
   "cell_type": "code",
   "execution_count": 1,
   "metadata": {},
   "outputs": [
    {
     "ename": "NameError",
     "evalue": "name 'train_data' is not defined",
     "output_type": "error",
     "traceback": [
      "\u001b[0;31m---------------------------------------------------------------------------\u001b[0m",
      "\u001b[0;31mNameError\u001b[0m                                 Traceback (most recent call last)",
      "Cell \u001b[0;32mIn[1], line 2\u001b[0m\n\u001b[1;32m      1\u001b[0m corpus \u001b[39m=\u001b[39m \u001b[39m\"\u001b[39m\u001b[39m\"\u001b[39m\n\u001b[0;32m----> 2\u001b[0m \u001b[39mfor\u001b[39;00m i \u001b[39min\u001b[39;00m \u001b[39mrange\u001b[39m(\u001b[39mlen\u001b[39m(train_data[\u001b[39m\"\u001b[39m\u001b[39mtext\u001b[39m\u001b[39m\"\u001b[39m])):\n\u001b[1;32m      3\u001b[0m   corpus\u001b[39m=\u001b[39m corpus \u001b[39m+\u001b[39m\u001b[39m\"\u001b[39m\u001b[39m.\u001b[39m\u001b[39m\"\u001b[39m\u001b[39m+\u001b[39m train_data[i][\u001b[39m\"\u001b[39m\u001b[39mtext\u001b[39m\u001b[39m\"\u001b[39m]\n\u001b[1;32m      4\u001b[0m   \u001b[39m# print(i)\u001b[39;00m\n\u001b[1;32m      5\u001b[0m \u001b[39m# print(corpus)\u001b[39;00m\n",
      "\u001b[0;31mNameError\u001b[0m: name 'train_data' is not defined"
     ]
    }
   ],
   "source": [
    "corpus = \"\"\n",
    "for i in range(len(train_data[\"text\"])):\n",
    "  corpus= corpus +\".\"+ train_data[i][\"text\"]\n",
    "  # print(i)\n",
    "# print(corpus)"
   ]
  },
  {
   "cell_type": "code",
   "execution_count": 2,
   "metadata": {},
   "outputs": [],
   "source": [
    "# corpus"
   ]
  },
  {
   "cell_type": "code",
   "execution_count": 7,
   "metadata": {},
   "outputs": [],
   "source": [
    "corpus = corpus.replace('=', '').replace('@', '').replace('.', '').replace(',', '').replace('(', '').replace(')', '').replace('\"', '')\n",
    "corpus = corpus.split('\\n')\n",
    "corpus = [i for i in corpus if len(i.split(' ')) > 5]"
   ]
  },
  {
   "cell_type": "code",
   "execution_count": 3,
   "metadata": {},
   "outputs": [],
   "source": [
    "# corpus"
   ]
  },
  {
   "cell_type": "code",
   "execution_count": 8,
   "metadata": {},
   "outputs": [],
   "source": [
    "def tokenize_corpus(corpus):\n",
    "    tokens = [x.split() for x in corpus]\n",
    "    return tokens"
   ]
  },
  {
   "cell_type": "code",
   "execution_count": 9,
   "metadata": {},
   "outputs": [],
   "source": [
    "def create_vocabulary(tokenized_corpus):\n",
    "    vocab = {}\n",
    "    vocab['<PAD>'] = 0\n",
    "    i = 1\n",
    "    for sentence in tokenized_corpus:\n",
    "        for word in sentence:\n",
    "            if word in vocab:\n",
    "                continue\n",
    "            vocab[word] = i\n",
    "            i += 1\n",
    "            \n",
    "    return vocab"
   ]
  },
  {
   "cell_type": "code",
   "execution_count": 16,
   "metadata": {},
   "outputs": [],
   "source": [
    "def generate_train_data(tokenized_corpus, vocab, window_size):\n",
    "    X = []\n",
    "    y = []\n",
    "    k=0\n",
    "    for phrase in tokenized_corpus:\n",
    "        for i in range(len(phrase)):\n",
    "            target = i\n",
    "            context = []\n",
    "            for j in range(-window_size, window_size + 1):\n",
    "                if j == 0:\n",
    "                    continue\n",
    "                if i + j < 0 or i + j>=len(phrase):\n",
    "                    context.append('<PAD>')\n",
    "                else:\n",
    "                    context.append(phrase[i + j])\n",
    "        \n",
    "            X.append([vocab[k] for k in context])\n",
    "            y.append(vocab[phrase[target]])\n",
    "    return jnp.array(X), jnp.array(y)"
   ]
  },
  {
   "cell_type": "code",
   "execution_count": 17,
   "metadata": {},
   "outputs": [],
   "source": [
    "window_size = 2"
   ]
  },
  {
   "cell_type": "code",
   "execution_count": 18,
   "metadata": {},
   "outputs": [
    {
     "data": {
      "text/plain": [
       "23318"
      ]
     },
     "execution_count": 18,
     "metadata": {},
     "output_type": "execute_result"
    }
   ],
   "source": [
    "tokenized_corpus = tokenize_corpus(corpus)\n",
    "vocab = create_vocabulary(tokenized_corpus)\n",
    "len(tokenized_corpus)"
   ]
  },
  {
   "cell_type": "code",
   "execution_count": 1,
   "metadata": {},
   "outputs": [
    {
     "ename": "NameError",
     "evalue": "name 'generate_train_data' is not defined",
     "output_type": "error",
     "traceback": [
      "\u001b[0;31m---------------------------------------------------------------------------\u001b[0m",
      "\u001b[0;31mNameError\u001b[0m                                 Traceback (most recent call last)",
      "Cell \u001b[0;32mIn[1], line 1\u001b[0m\n\u001b[0;32m----> 1\u001b[0m X, y \u001b[38;5;241m=\u001b[39m generate_train_data(tokenized_corpus[:\u001b[38;5;241m1000\u001b[39m], vocab, window_size)\n",
      "\u001b[0;31mNameError\u001b[0m: name 'generate_train_data' is not defined"
     ]
    }
   ],
   "source": [
    "X, y = generate_train_data(tokenized_corpus[:1000], vocab, window_size)"
   ]
  },
  {
   "cell_type": "code",
   "execution_count": 4,
   "metadata": {},
   "outputs": [],
   "source": [
    "# vocab"
   ]
  },
  {
   "cell_type": "code",
   "execution_count": 5,
   "metadata": {},
   "outputs": [],
   "source": [
    "# tokenized_corpus"
   ]
  },
  {
   "cell_type": "code",
   "execution_count": 20,
   "metadata": {},
   "outputs": [
    {
     "data": {
      "text/plain": [
       "1789310"
      ]
     },
     "execution_count": 20,
     "metadata": {},
     "output_type": "execute_result"
    }
   ],
   "source": [
    "len(X)"
   ]
  },
  {
   "cell_type": "code",
   "execution_count": 21,
   "metadata": {},
   "outputs": [
    {
     "data": {
      "text/plain": [
       "Array([   1,    2,    3, ...,  145, 2454, 2317], dtype=int32)"
      ]
     },
     "execution_count": 21,
     "metadata": {},
     "output_type": "execute_result"
    }
   ],
   "source": [
    "y"
   ]
  },
  {
   "cell_type": "code",
   "execution_count": 22,
   "metadata": {},
   "outputs": [],
   "source": [
    "class Word2VecCBOW():\n",
    "    def __init__(self, window_size, embed_dim, vocab_size, random_state):\n",
    "        # Defines the key to be used for the random creation of the weights\n",
    "        self.key = random.PRNGKey(random_state)\n",
    "        self.vocab_size = vocab_size\n",
    "        self.linear = self._create_random_matrix(vocab_size, embed_dim)\n",
    "        self.soft = self._create_random_matrix(embed_dim, vocab_size)\n",
    "        \n",
    "        # Vectorizes the predict method\n",
    "        self.predict = vmap(self._predict, in_axes=(None, 0))\n",
    "\n",
    "    def train(self, X, y, num_epochs, batch_size):\n",
    "        y = one_hot(y, self.vocab_size)\n",
    "        X = one_hot(X, self.vocab_size)\n",
    "        params = [self.linear, self.soft]\n",
    "        for epoch in range(num_epochs):\n",
    "            print(f'Epoch: {epoch}')\n",
    "            for X_batch, y_batch in self.generate_batches(X, y, batch_size):\n",
    "                params = self.update(params, X_batch, y_batch)\n",
    "            print(f'Loss: {float(self.l.primal)}')\n",
    "        self.linear = params[0]\n",
    "        self.soft = params[1]\n",
    "\n",
    "    def _predict(self, params, X):\n",
    "        activations = []\n",
    "        for x in X:\n",
    "            activations.append(jnp.dot(x, params[0]))\n",
    "    # Averages the activations\n",
    "        activation = jnp.mean(jnp.array(activations), axis=0)\n",
    "        logits = jnp.dot(activation, params[1])\n",
    "        result = softmax(logits)\n",
    "        \n",
    "        return result\n",
    "\n",
    "    def _create_random_matrix(self, window_size, embed_dim):\n",
    "        w_key = random.split(self.key, num=1)\n",
    "        \n",
    "        return 0.2 * random.normal(self.key, (window_size, embed_dim))\n",
    "\n",
    "    def loss(self, params, X, y):\n",
    "        preds = self.predict(params, X)\n",
    "        l = -jnp.mean(preds * y)\n",
    "        self.l = l\n",
    "        return l\n",
    "\n",
    "    def update(self, params, X, y, step_size=0.02):\n",
    "        grads = grad(self.loss)(params, X, y)\n",
    "        return [params[0] - step_size * grads[0],\n",
    "                params[1] - step_size * grads[1]]\n",
    "\n",
    "    def get_embedding(self):\n",
    "        return self.linear\n",
    "\n",
    "    def generate_batches(self, X, y, batch_size):\n",
    "        for index, offset in enumerate(range(0, len(y), batch_size)):\n",
    "            yield X[offset: offset + batch_size], y[offset: offset + batch_size]"
   ]
  },
  {
   "cell_type": "code",
   "execution_count": 23,
   "metadata": {},
   "outputs": [],
   "source": [
    "w2v = Word2VecCBOW(2, 32, len(vocab), 42)\n",
    "w2v.train(X, y, 2, 1000)\n",
    "w2v.get_embedding()"
   ]
  }
 ],
 "metadata": {
  "kernelspec": {
   "display_name": "Python 3",
   "language": "python",
   "name": "python3"
  },
  "language_info": {
   "codemirror_mode": {
    "name": "ipython",
    "version": 3
   },
   "file_extension": ".py",
   "mimetype": "text/x-python",
   "name": "python",
   "nbconvert_exporter": "python",
   "pygments_lexer": "ipython3",
   "version": "3.12.2"
  },
  "vscode": {
   "interpreter": {
    "hash": "aee8b7b246df8f9039afb4144a1f6fd8d2ca17a180786b69acc140d282b71a49"
   }
  }
 },
 "nbformat": 4,
 "nbformat_minor": 2
}
