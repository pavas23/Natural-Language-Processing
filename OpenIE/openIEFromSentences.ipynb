{
 "cells": [
  {
   "cell_type": "code",
   "execution_count": 1,
   "id": "187112dca637a1e4",
   "metadata": {
    "jupyter": {
     "is_executing": true
    }
   },
   "outputs": [],
   "source": [
    "import warnings\n",
    "warnings.filterwarnings(\"ignore\")"
   ]
  },
  {
   "cell_type": "code",
   "execution_count": 22,
   "id": "9440769d2e79d3a3",
   "metadata": {
    "jupyter": {
     "is_executing": true
    }
   },
   "outputs": [],
   "source": [
    "import spacy\n",
    "import torch\n",
    "import pandas as pd\n",
    "from sklearn.model_selection import train_test_split\n",
    "from sklearn.preprocessing import LabelEncoder\n",
    "from transformers import BertTokenizer, BertModel\n",
    "from torch.nn.utils.rnn import pad_sequence"
   ]
  },
  {
   "cell_type": "code",
   "execution_count": 3,
   "id": "44174668a4419709",
   "metadata": {
    "jupyter": {
     "is_executing": true
    }
   },
   "outputs": [],
   "source": [
    "def load_dataset(file_path):\n",
    "    sentences = []\n",
    "    labels = []\n",
    "    \n",
    "    with open(file_path, 'r') as f:\n",
    "        lines = f.readlines()\n",
    "        sentence = []\n",
    "        \n",
    "        for line in lines:\n",
    "            line = line.strip() # remove leading/trailing whitespaces\n",
    "            if line:\n",
    "                if not line.startswith('ARG') and not line.startswith('REL') and not line.startswith('NONE'):\n",
    "                    sentence = line\n",
    "                else:\n",
    "                    current_label = line\n",
    "                    sentences.append(sentence)\n",
    "                    labels.append(current_label)\n",
    "                    \n",
    "    return sentences, labels"
   ]
  },
  {
   "cell_type": "code",
   "execution_count": 4,
   "id": "ce4b98ac876c1260",
   "metadata": {
    "jupyter": {
     "is_executing": true
    }
   },
   "outputs": [],
   "source": [
    "# load the dataset into a pandas dataframe\n",
    "sentences, labels = load_dataset('./Dataset/original_cleaned')\n",
    "df = pd.DataFrame({\n",
    "    'Sentence': sentences,\n",
    "    'Labels': labels\n",
    "})"
   ]
  },
  {
   "cell_type": "code",
   "execution_count": 5,
   "id": "a33caf102ff39d79",
   "metadata": {
    "jupyter": {
     "is_executing": true
    }
   },
   "outputs": [
    {
     "data": {
      "text/plain": [
       "(166889, 2)"
      ]
     },
     "execution_count": 5,
     "metadata": {},
     "output_type": "execute_result"
    }
   ],
   "source": [
    "df.shape"
   ]
  },
  {
   "cell_type": "code",
   "execution_count": 6,
   "id": "2450b74c76bca592",
   "metadata": {
    "jupyter": {
     "is_executing": true
    }
   },
   "outputs": [
    {
     "data": {
      "text/html": [
       "<div>\n",
       "<style scoped>\n",
       "    .dataframe tbody tr th:only-of-type {\n",
       "        vertical-align: middle;\n",
       "    }\n",
       "\n",
       "    .dataframe tbody tr th {\n",
       "        vertical-align: top;\n",
       "    }\n",
       "\n",
       "    .dataframe thead th {\n",
       "        text-align: right;\n",
       "    }\n",
       "</style>\n",
       "<table border=\"1\" class=\"dataframe\">\n",
       "  <thead>\n",
       "    <tr style=\"text-align: right;\">\n",
       "      <th></th>\n",
       "      <th>Sentence</th>\n",
       "      <th>Labels</th>\n",
       "    </tr>\n",
       "  </thead>\n",
       "  <tbody>\n",
       "    <tr>\n",
       "      <th>0</th>\n",
       "      <td>Simon is quoted as saying `` if you 'd ever se...</td>\n",
       "      <td>ARG1 REL REL ARG2 ARG2 ARG2 ARG2 ARG2 ARG2 ARG...</td>\n",
       "    </tr>\n",
       "    <tr>\n",
       "      <th>1</th>\n",
       "      <td>Simon is quoted as saying `` if you 'd ever se...</td>\n",
       "      <td>NONE NONE NONE NONE NONE NONE NONE NONE NONE N...</td>\n",
       "    </tr>\n",
       "    <tr>\n",
       "      <th>2</th>\n",
       "      <td>Simon is quoted as saying `` if you 'd ever se...</td>\n",
       "      <td>NONE NONE NONE NONE NONE NONE NONE ARG1 REL TI...</td>\n",
       "    </tr>\n",
       "    <tr>\n",
       "      <th>3</th>\n",
       "      <td>Simon is quoted as saying `` if you 'd ever se...</td>\n",
       "      <td>ARG1 NONE NONE REL REL NONE NONE NONE NONE NON...</td>\n",
       "    </tr>\n",
       "    <tr>\n",
       "      <th>4</th>\n",
       "      <td>The couple had no children .</td>\n",
       "      <td>ARG1 ARG1 REL ARG2 ARG2 NONE</td>\n",
       "    </tr>\n",
       "    <tr>\n",
       "      <th>...</th>\n",
       "      <td>...</td>\n",
       "      <td>...</td>\n",
       "    </tr>\n",
       "    <tr>\n",
       "      <th>166884</th>\n",
       "      <td>TIME ARG1 REL NONE NONE ARG2 ARG2 ARG2 ARG2 AR...</td>\n",
       "      <td>NONE NONE NONE NONE NONE ARG1 REL ARG2 ARG2 AR...</td>\n",
       "    </tr>\n",
       "    <tr>\n",
       "      <th>166885</th>\n",
       "      <td>TIME ARG1 REL NONE NONE ARG2 ARG2 ARG2 ARG2 AR...</td>\n",
       "      <td>NONE NONE NONE NONE NONE NONE NONE NONE NONE N...</td>\n",
       "    </tr>\n",
       "    <tr>\n",
       "      <th>166886</th>\n",
       "      <td>This was the time when Yang Luchan made the Ch...</td>\n",
       "      <td>ARG1 REL ARG2 ARG2 ARG2 ARG2 ARG2 ARG2 ARG2 AR...</td>\n",
       "    </tr>\n",
       "    <tr>\n",
       "      <th>166887</th>\n",
       "      <td>This was the time when Yang Luchan made the Ch...</td>\n",
       "      <td>NONE NONE TIME TIME NONE ARG1 ARG1 REL ARG2 AR...</td>\n",
       "    </tr>\n",
       "    <tr>\n",
       "      <th>166888</th>\n",
       "      <td>This was the time when Yang Luchan made the Ch...</td>\n",
       "      <td>NONE NONE NONE NONE NONE NONE NONE NONE ARG1 A...</td>\n",
       "    </tr>\n",
       "  </tbody>\n",
       "</table>\n",
       "<p>166889 rows × 2 columns</p>\n",
       "</div>"
      ],
      "text/plain": [
       "                                                 Sentence  \\\n",
       "0       Simon is quoted as saying `` if you 'd ever se...   \n",
       "1       Simon is quoted as saying `` if you 'd ever se...   \n",
       "2       Simon is quoted as saying `` if you 'd ever se...   \n",
       "3       Simon is quoted as saying `` if you 'd ever se...   \n",
       "4                            The couple had no children .   \n",
       "...                                                   ...   \n",
       "166884  TIME ARG1 REL NONE NONE ARG2 ARG2 ARG2 ARG2 AR...   \n",
       "166885  TIME ARG1 REL NONE NONE ARG2 ARG2 ARG2 ARG2 AR...   \n",
       "166886  This was the time when Yang Luchan made the Ch...   \n",
       "166887  This was the time when Yang Luchan made the Ch...   \n",
       "166888  This was the time when Yang Luchan made the Ch...   \n",
       "\n",
       "                                                   Labels  \n",
       "0       ARG1 REL REL ARG2 ARG2 ARG2 ARG2 ARG2 ARG2 ARG...  \n",
       "1       NONE NONE NONE NONE NONE NONE NONE NONE NONE N...  \n",
       "2       NONE NONE NONE NONE NONE NONE NONE ARG1 REL TI...  \n",
       "3       ARG1 NONE NONE REL REL NONE NONE NONE NONE NON...  \n",
       "4                            ARG1 ARG1 REL ARG2 ARG2 NONE  \n",
       "...                                                   ...  \n",
       "166884  NONE NONE NONE NONE NONE ARG1 REL ARG2 ARG2 AR...  \n",
       "166885  NONE NONE NONE NONE NONE NONE NONE NONE NONE N...  \n",
       "166886  ARG1 REL ARG2 ARG2 ARG2 ARG2 ARG2 ARG2 ARG2 AR...  \n",
       "166887  NONE NONE TIME TIME NONE ARG1 ARG1 REL ARG2 AR...  \n",
       "166888  NONE NONE NONE NONE NONE NONE NONE NONE ARG1 A...  \n",
       "\n",
       "[166889 rows x 2 columns]"
      ]
     },
     "execution_count": 6,
     "metadata": {},
     "output_type": "execute_result"
    }
   ],
   "source": [
    "df"
   ]
  },
  {
   "cell_type": "code",
   "execution_count": 7,
   "id": "0e8f29ba",
   "metadata": {},
   "outputs": [],
   "source": [
    "# change this later on !!!!\n",
    "df = df[:50]"
   ]
  },
  {
   "cell_type": "code",
   "execution_count": 8,
   "id": "3909297a073ea9d5",
   "metadata": {
    "jupyter": {
     "is_executing": true
    }
   },
   "outputs": [],
   "source": [
    "# convert all sentences to lower case\n",
    "df['Sentence'] = df['Sentence'].str.lower()"
   ]
  },
  {
   "cell_type": "code",
   "execution_count": 9,
   "id": "17373580",
   "metadata": {},
   "outputs": [],
   "source": [
    "def remerge_sent(sent):\n",
    "    # merges tokens which are not separated by white-space\n",
    "    # does this recursively until no further changes\n",
    "    changed = True\n",
    "    while changed:\n",
    "        changed = False\n",
    "        i = 0\n",
    "        while i < sent.__len__() - 1:\n",
    "            tok = sent[i]\n",
    "            if not tok.whitespace_:\n",
    "                ntok = sent[i + 1]\n",
    "                # in-place operation.\n",
    "                with sent.retokenize() as retokenizer:\n",
    "                    retokenizer.merge(sent[i: i + 2])\n",
    "                changed = True\n",
    "            i += 1\n",
    "    return sent"
   ]
  },
  {
   "cell_type": "code",
   "execution_count": 10,
   "id": "940e825e",
   "metadata": {},
   "outputs": [],
   "source": [
    "# Tokenize sentences using spacy\n",
    "nlp = spacy.load('en_core_web_sm')"
   ]
  },
  {
   "cell_type": "code",
   "execution_count": 11,
   "id": "2b5b9690",
   "metadata": {},
   "outputs": [],
   "source": [
    "def check_token_label_length(row):\n",
    "    doc = nlp(row['Sentence'])\n",
    "    spacy_sentence = remerge_sent(doc)\n",
    "    tokens = [token.text for token in spacy_sentence]\n",
    "    labels = row['Labels'].split()\n",
    "\n",
    "    is_match = len(tokens) == len(labels)\n",
    "    return is_match, len(tokens), len(labels), tokens"
   ]
  },
  {
   "cell_type": "code",
   "execution_count": 12,
   "id": "fa5700ca",
   "metadata": {},
   "outputs": [],
   "source": [
    "df[['Token_Label_Match', 'Num_Tokens', 'Num_Labels', 'Tokens']] = df.apply(check_token_label_length, axis=1, result_type=\"expand\")"
   ]
  },
  {
   "cell_type": "code",
   "execution_count": 13,
   "id": "114b2a98",
   "metadata": {},
   "outputs": [
    {
     "data": {
      "text/html": [
       "<div>\n",
       "<style scoped>\n",
       "    .dataframe tbody tr th:only-of-type {\n",
       "        vertical-align: middle;\n",
       "    }\n",
       "\n",
       "    .dataframe tbody tr th {\n",
       "        vertical-align: top;\n",
       "    }\n",
       "\n",
       "    .dataframe thead th {\n",
       "        text-align: right;\n",
       "    }\n",
       "</style>\n",
       "<table border=\"1\" class=\"dataframe\">\n",
       "  <thead>\n",
       "    <tr style=\"text-align: right;\">\n",
       "      <th></th>\n",
       "      <th>Sentence</th>\n",
       "      <th>Labels</th>\n",
       "      <th>Token_Label_Match</th>\n",
       "      <th>Num_Tokens</th>\n",
       "      <th>Num_Labels</th>\n",
       "      <th>Tokens</th>\n",
       "    </tr>\n",
       "  </thead>\n",
       "  <tbody>\n",
       "    <tr>\n",
       "      <th>0</th>\n",
       "      <td>simon is quoted as saying `` if you 'd ever se...</td>\n",
       "      <td>ARG1 REL REL ARG2 ARG2 ARG2 ARG2 ARG2 ARG2 ARG...</td>\n",
       "      <td>True</td>\n",
       "      <td>32</td>\n",
       "      <td>32</td>\n",
       "      <td>[simon, is, quoted, as, saying, ``, if, you, '...</td>\n",
       "    </tr>\n",
       "    <tr>\n",
       "      <th>1</th>\n",
       "      <td>simon is quoted as saying `` if you 'd ever se...</td>\n",
       "      <td>NONE NONE NONE NONE NONE NONE NONE NONE NONE N...</td>\n",
       "      <td>True</td>\n",
       "      <td>32</td>\n",
       "      <td>32</td>\n",
       "      <td>[simon, is, quoted, as, saying, ``, if, you, '...</td>\n",
       "    </tr>\n",
       "    <tr>\n",
       "      <th>2</th>\n",
       "      <td>simon is quoted as saying `` if you 'd ever se...</td>\n",
       "      <td>NONE NONE NONE NONE NONE NONE NONE ARG1 REL TI...</td>\n",
       "      <td>True</td>\n",
       "      <td>32</td>\n",
       "      <td>32</td>\n",
       "      <td>[simon, is, quoted, as, saying, ``, if, you, '...</td>\n",
       "    </tr>\n",
       "    <tr>\n",
       "      <th>3</th>\n",
       "      <td>simon is quoted as saying `` if you 'd ever se...</td>\n",
       "      <td>ARG1 NONE NONE REL REL NONE NONE NONE NONE NON...</td>\n",
       "      <td>True</td>\n",
       "      <td>32</td>\n",
       "      <td>32</td>\n",
       "      <td>[simon, is, quoted, as, saying, ``, if, you, '...</td>\n",
       "    </tr>\n",
       "    <tr>\n",
       "      <th>4</th>\n",
       "      <td>the couple had no children .</td>\n",
       "      <td>ARG1 ARG1 REL ARG2 ARG2 NONE</td>\n",
       "      <td>True</td>\n",
       "      <td>6</td>\n",
       "      <td>6</td>\n",
       "      <td>[the, couple, had, no, children, .]</td>\n",
       "    </tr>\n",
       "  </tbody>\n",
       "</table>\n",
       "</div>"
      ],
      "text/plain": [
       "                                            Sentence  \\\n",
       "0  simon is quoted as saying `` if you 'd ever se...   \n",
       "1  simon is quoted as saying `` if you 'd ever se...   \n",
       "2  simon is quoted as saying `` if you 'd ever se...   \n",
       "3  simon is quoted as saying `` if you 'd ever se...   \n",
       "4                       the couple had no children .   \n",
       "\n",
       "                                              Labels  Token_Label_Match  \\\n",
       "0  ARG1 REL REL ARG2 ARG2 ARG2 ARG2 ARG2 ARG2 ARG...               True   \n",
       "1  NONE NONE NONE NONE NONE NONE NONE NONE NONE N...               True   \n",
       "2  NONE NONE NONE NONE NONE NONE NONE ARG1 REL TI...               True   \n",
       "3  ARG1 NONE NONE REL REL NONE NONE NONE NONE NON...               True   \n",
       "4                       ARG1 ARG1 REL ARG2 ARG2 NONE               True   \n",
       "\n",
       "   Num_Tokens  Num_Labels                                             Tokens  \n",
       "0          32          32  [simon, is, quoted, as, saying, ``, if, you, '...  \n",
       "1          32          32  [simon, is, quoted, as, saying, ``, if, you, '...  \n",
       "2          32          32  [simon, is, quoted, as, saying, ``, if, you, '...  \n",
       "3          32          32  [simon, is, quoted, as, saying, ``, if, you, '...  \n",
       "4           6           6                [the, couple, had, no, children, .]  "
      ]
     },
     "execution_count": 13,
     "metadata": {},
     "output_type": "execute_result"
    }
   ],
   "source": [
    "df.head()"
   ]
  },
  {
   "cell_type": "code",
   "execution_count": 14,
   "id": "0867cbf6",
   "metadata": {},
   "outputs": [],
   "source": [
    "# Load the pre-trained BERT tokenizer and model\n",
    "tokenizer = BertTokenizer.from_pretrained('bert-base-uncased')\n",
    "bert_model = BertModel.from_pretrained('bert-base-uncased')\n",
    "\n",
    "device = torch.device(\"cuda\" if torch.cuda.is_available() else \"cpu\")\n",
    "bert_model = bert_model.to(device)"
   ]
  },
  {
   "cell_type": "code",
   "execution_count": 15,
   "id": "0b42ee24",
   "metadata": {},
   "outputs": [],
   "source": [
    "# Function to generate BERT embeddings for each token in a sentence.\n",
    "def get_bert_embeddings(tokens):\n",
    "    embeddings = []\n",
    "\n",
    "    for token in tokens:\n",
    "        # Tokenize the individual token\n",
    "        inputs = tokenizer(token, return_tensors='pt', padding=True, truncation=True)\n",
    "\n",
    "        # Get BERT embeddings from the model\n",
    "        with torch.no_grad():  # Disable gradient computation for efficiency\n",
    "            outputs = bert_model(**inputs)\n",
    "\n",
    "        # outputs.last_hidden_state gives the embeddings for each token\n",
    "        # Taking the mean of the embeddings if there are multiple subword tokens\n",
    "        embedding = outputs.last_hidden_state.mean(dim=1).squeeze(0)  # Shape: (hidden_size,)\n",
    "\n",
    "        # Append the embedding\n",
    "        embeddings.append(embedding)\n",
    "\n",
    "    # Convert list of tensors to a single tensor (if needed)\n",
    "    embeddings = torch.stack(embeddings)  # Shape: (num_tokens, hidden_size)\n",
    "\n",
    "    return embeddings  # Shape: (num_tokens, hidden_size)"
   ]
  },
  {
   "cell_type": "code",
   "execution_count": 16,
   "id": "5460e08a",
   "metadata": {},
   "outputs": [],
   "source": [
    "# Function to generate BERT embeddings for each sentence in the DataFrame\n",
    "def generate_embeddings(df):\n",
    "    embeddings_list = []\n",
    "    for index, row in df.iterrows():\n",
    "        tokenized_sentence = row['Tokens']\n",
    "        embeddings = get_bert_embeddings(tokenized_sentence)\n",
    "        embeddings_list.append(embeddings)\n",
    "    return embeddings_list"
   ]
  },
  {
   "cell_type": "code",
   "execution_count": 17,
   "id": "57bafc56",
   "metadata": {},
   "outputs": [],
   "source": [
    "embeddings_list = generate_embeddings(df)"
   ]
  },
  {
   "cell_type": "code",
   "execution_count": 65,
   "id": "e0c01791",
   "metadata": {},
   "outputs": [
    {
     "name": "stdout",
     "output_type": "stream",
     "text": [
      "torch.Size([50, 63, 768])\n"
     ]
    }
   ],
   "source": [
    "# pad the embeddings to ensure uniformity across dataset as model will be trained in batches\n",
    "padded_embeddings = pad_sequence(embeddings_list, batch_first=True)\n",
    "df['Embeddings'] = [padded_embeddings[i] for i in range(padded_embeddings.shape[0])]\n",
    "print(padded_embeddings.shape)"
   ]
  },
  {
   "cell_type": "code",
   "execution_count": 66,
   "id": "777f3294",
   "metadata": {},
   "outputs": [],
   "source": [
    "# encode the labels\n",
    "label_encoder = LabelEncoder()\n",
    "labels_list = ['ARG1', 'ARG2', 'REL', 'TIME', 'LOC', 'NONE']\n",
    "label_encoder.fit(labels_list)\n",
    "\n",
    "df['Encoded_Labels'] = df['Labels'].apply(lambda x: label_encoder.transform(x.split()))"
   ]
  },
  {
   "cell_type": "code",
   "execution_count": 67,
   "id": "f81bf6f5",
   "metadata": {},
   "outputs": [],
   "source": [
    "# pad the labels\n",
    "def pad_labels(labels, max_len):\n",
    "    padded_labels = torch.full((max_len,), label_encoder.transform(['NONE'])[0])  # Assuming 'NONE' is the padding label\n",
    "    padded_labels[:len(labels)] = torch.tensor(labels)\n",
    "    return padded_labels"
   ]
  },
  {
   "cell_type": "code",
   "execution_count": 68,
   "id": "4bf70122",
   "metadata": {},
   "outputs": [],
   "source": [
    "encoded_labels = df['Encoded_Labels'].tolist()\n",
    "max_len = max(len(label) for label in encoded_labels)\n",
    "\n",
    "padded_labels = [pad_labels(label, max_len) for label in encoded_labels]\n",
    "df['Padded_Labels'] = padded_labels"
   ]
  },
  {
   "cell_type": "code",
   "execution_count": 69,
   "id": "428a8996",
   "metadata": {},
   "outputs": [],
   "source": [
    "# Split the data into training and testing sets\n",
    "train_embeddings, test_embeddings, train_labels, test_labels = train_test_split(\n",
    "    df['Embeddings'].tolist(),  \n",
    "    df['Padded_Labels'].tolist(),\n",
    "    test_size=0.2,\n",
    "    random_state=42\n",
    ")"
   ]
  },
  {
   "cell_type": "code",
   "execution_count": 70,
   "id": "878cc32d",
   "metadata": {},
   "outputs": [],
   "source": [
    "# Further split the training set into training and validation sets\n",
    "train_embeddings, val_embeddings, train_labels, val_labels = train_test_split(\n",
    "    train_embeddings,\n",
    "    train_labels,\n",
    "    test_size=0.1,  # 10% of training set for validation\n",
    "    random_state=42\n",
    ")"
   ]
  },
  {
   "cell_type": "code",
   "execution_count": 71,
   "id": "4ae703f3",
   "metadata": {},
   "outputs": [],
   "source": [
    "# Create new DataFrames for the splits\n",
    "train_df = pd.DataFrame({'Embeddings': train_embeddings, 'Labels': train_labels})\n",
    "val_df = pd.DataFrame({'Embeddings': val_embeddings, 'Labels': val_labels})\n",
    "test_df = pd.DataFrame({'Embeddings': test_embeddings, 'Labels': test_labels})\n",
    "\n",
    "train_df.reset_index(drop=True, inplace=True)\n",
    "val_df.reset_index(drop=True, inplace=True)\n",
    "test_df.reset_index(drop=True, inplace=True)"
   ]
  },
  {
   "cell_type": "code",
   "execution_count": 77,
   "id": "1840facd",
   "metadata": {},
   "outputs": [
    {
     "data": {
      "text/plain": [
       "<bound method NDFrame.head of                                            Embeddings  \\\n",
       "0   [[tensor(0.0701), tensor(0.1535), tensor(-0.16...   \n",
       "1   [[tensor(0.1237), tensor(0.3573), tensor(-0.11...   \n",
       "2   [[tensor(0.3723), tensor(-0.0874), tensor(-0.1...   \n",
       "3   [[tensor(0.3782), tensor(-0.1690), tensor(0.13...   \n",
       "4   [[tensor(-0.0435), tensor(-0.1900), tensor(-0....   \n",
       "5   [[tensor(-0.0435), tensor(-0.1900), tensor(-0....   \n",
       "6   [[tensor(0.0701), tensor(0.1535), tensor(-0.16...   \n",
       "7   [[tensor(0.3723), tensor(-0.0874), tensor(-0.1...   \n",
       "8   [[tensor(0.3782), tensor(-0.1690), tensor(0.13...   \n",
       "9   [[tensor(0.0092), tensor(-0.0992), tensor(-0.3...   \n",
       "10  [[tensor(0.1542), tensor(0.1303), tensor(-0.17...   \n",
       "11  [[tensor(0.5746), tensor(0.7125), tensor(0.388...   \n",
       "12  [[tensor(0.1196), tensor(-0.0966), tensor(-0.1...   \n",
       "13  [[tensor(0.1542), tensor(0.1303), tensor(-0.17...   \n",
       "14  [[tensor(0.1612), tensor(-0.0972), tensor(-0.0...   \n",
       "15  [[tensor(0.2098), tensor(-0.0714), tensor(0.07...   \n",
       "16  [[tensor(0.0092), tensor(-0.0992), tensor(-0.3...   \n",
       "17  [[tensor(0.3723), tensor(-0.0874), tensor(-0.1...   \n",
       "18  [[tensor(0.0877), tensor(-0.1762), tensor(-0.2...   \n",
       "19  [[tensor(-0.0435), tensor(-0.1900), tensor(-0....   \n",
       "20  [[tensor(0.0092), tensor(-0.0992), tensor(-0.3...   \n",
       "21  [[tensor(0.0092), tensor(-0.0992), tensor(-0.3...   \n",
       "22  [[tensor(0.0092), tensor(-0.0992), tensor(-0.3...   \n",
       "23  [[tensor(-0.0435), tensor(-0.1900), tensor(-0....   \n",
       "24  [[tensor(0.0092), tensor(-0.0992), tensor(-0.3...   \n",
       "25  [[tensor(0.0298), tensor(-0.2143), tensor(-0.1...   \n",
       "26  [[tensor(0.0701), tensor(0.1535), tensor(-0.16...   \n",
       "27  [[tensor(0.0488), tensor(-0.0471), tensor(-0.2...   \n",
       "28  [[tensor(-0.0435), tensor(-0.1900), tensor(-0....   \n",
       "29  [[tensor(0.3782), tensor(-0.1690), tensor(0.13...   \n",
       "30  [[tensor(-0.0105), tensor(-0.3489), tensor(-0....   \n",
       "31  [[tensor(0.5746), tensor(0.7125), tensor(0.388...   \n",
       "32  [[tensor(-0.0435), tensor(-0.1900), tensor(-0....   \n",
       "33  [[tensor(0.0092), tensor(-0.0992), tensor(-0.3...   \n",
       "34  [[tensor(0.1237), tensor(0.3573), tensor(-0.11...   \n",
       "35  [[tensor(0.0092), tensor(-0.0992), tensor(-0.3...   \n",
       "\n",
       "                                               Labels  \n",
       "0   [tensor(0), tensor(3), tensor(3), tensor(4), t...  \n",
       "1   [tensor(3), tensor(3), tensor(3), tensor(3), t...  \n",
       "2   [tensor(3), tensor(3), tensor(3), tensor(3), t...  \n",
       "3   [tensor(3), tensor(3), tensor(3), tensor(3), t...  \n",
       "4   [tensor(0), tensor(4), tensor(4), tensor(1), t...  \n",
       "5   [tensor(3), tensor(3), tensor(3), tensor(3), t...  \n",
       "6   [tensor(3), tensor(3), tensor(3), tensor(3), t...  \n",
       "7   [tensor(3), tensor(0), tensor(0), tensor(0), t...  \n",
       "8   [tensor(3), tensor(3), tensor(3), tensor(3), t...  \n",
       "9   [tensor(0), tensor(0), tensor(3), tensor(3), t...  \n",
       "10  [tensor(3), tensor(3), tensor(3), tensor(3), t...  \n",
       "11  [tensor(3), tensor(0), tensor(3), tensor(4), t...  \n",
       "12  [tensor(3), tensor(3), tensor(3), tensor(3), t...  \n",
       "13  [tensor(0), tensor(4), tensor(4), tensor(4), t...  \n",
       "14  [tensor(3), tensor(3), tensor(3), tensor(3), t...  \n",
       "15  [tensor(0), tensor(0), tensor(0), tensor(4), t...  \n",
       "16  [tensor(3), tensor(3), tensor(3), tensor(0), t...  \n",
       "17  [tensor(3), tensor(3), tensor(3), tensor(3), t...  \n",
       "18  [tensor(0), tensor(0), tensor(4), tensor(1), t...  \n",
       "19  [tensor(3), tensor(3), tensor(3), tensor(3), t...  \n",
       "20  [tensor(0), tensor(0), tensor(0), tensor(0), t...  \n",
       "21  [tensor(0), tensor(0), tensor(4), tensor(1), t...  \n",
       "22  [tensor(3), tensor(3), tensor(3), tensor(3), t...  \n",
       "23  [tensor(0), tensor(4), tensor(1), tensor(1), t...  \n",
       "24  [tensor(0), tensor(0), tensor(3), tensor(4), t...  \n",
       "25  [tensor(0), tensor(0), tensor(0), tensor(0), t...  \n",
       "26  [tensor(3), tensor(3), tensor(3), tensor(3), t...  \n",
       "27  [tensor(0), tensor(0), tensor(4), tensor(4), t...  \n",
       "28  [tensor(0), tensor(0), tensor(0), tensor(0), t...  \n",
       "29  [tensor(3), tensor(3), tensor(3), tensor(3), t...  \n",
       "30  [tensor(3), tensor(3), tensor(3), tensor(3), t...  \n",
       "31  [tensor(3), tensor(5), tensor(5), tensor(5), t...  \n",
       "32  [tensor(3), tensor(3), tensor(3), tensor(3), t...  \n",
       "33  [tensor(0), tensor(0), tensor(4), tensor(1), t...  \n",
       "34  [tensor(0), tensor(0), tensor(0), tensor(4), t...  \n",
       "35  [tensor(0), tensor(0), tensor(0), tensor(4), t...  >"
      ]
     },
     "execution_count": 77,
     "metadata": {},
     "output_type": "execute_result"
    }
   ],
   "source": [
    "train_df.head"
   ]
  },
  {
   "cell_type": "code",
   "execution_count": null,
   "id": "3387ef1d87bf3758",
   "metadata": {
    "jupyter": {
     "is_executing": true
    }
   },
   "outputs": [],
   "source": []
  },
  {
   "cell_type": "code",
   "execution_count": null,
   "id": "bc8e9ce6b6ee550",
   "metadata": {},
   "outputs": [],
   "source": []
  },
  {
   "cell_type": "code",
   "execution_count": null,
   "id": "73507be0f474711",
   "metadata": {},
   "outputs": [],
   "source": []
  },
  {
   "cell_type": "code",
   "execution_count": null,
   "id": "da0b14d1535f8aa5",
   "metadata": {},
   "outputs": [],
   "source": []
  }
 ],
 "metadata": {
  "kernelspec": {
   "display_name": "myenv",
   "language": "python",
   "name": "python3"
  },
  "language_info": {
   "codemirror_mode": {
    "name": "ipython",
    "version": 3
   },
   "file_extension": ".py",
   "mimetype": "text/x-python",
   "name": "python",
   "nbconvert_exporter": "python",
   "pygments_lexer": "ipython3",
   "version": "3.8.9"
  },
  "vscode": {
   "interpreter": {
    "hash": "c02217268eef09e40580f0538eb6a3caa93eb128abcb037aa663604008eb0f16"
   }
  }
 },
 "nbformat": 4,
 "nbformat_minor": 5
}
