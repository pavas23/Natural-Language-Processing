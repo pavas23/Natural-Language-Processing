{
 "cells": [
  {
   "metadata": {
    "ExecuteTime": {
     "end_time": "2024-09-25T17:15:04.956900Z",
     "start_time": "2024-09-25T17:15:04.949129Z"
    }
   },
   "cell_type": "code",
   "source": [
    "import warnings\n",
    "warnings.filterwarnings(\"ignore\")"
   ],
   "id": "187112dca637a1e4",
   "outputs": [],
   "execution_count": 1
  },
  {
   "metadata": {
    "ExecuteTime": {
     "end_time": "2024-09-25T17:15:06.580172Z",
     "start_time": "2024-09-25T17:15:05.636754Z"
    }
   },
   "cell_type": "code",
   "source": [
    "import pandas as pd\n",
    "import spacy"
   ],
   "id": "9440769d2e79d3a3",
   "outputs": [],
   "execution_count": 2
  },
  {
   "metadata": {
    "ExecuteTime": {
     "end_time": "2024-09-25T17:15:07.444874Z",
     "start_time": "2024-09-25T17:15:07.438886Z"
    }
   },
   "cell_type": "code",
   "source": [
    "def load_dataset(file_path):\n",
    "    sentences = []\n",
    "    labels = []\n",
    "    \n",
    "    with open(file_path, 'r') as f:\n",
    "        lines = f.readlines()\n",
    "        sentence = []\n",
    "        \n",
    "        for line in lines:\n",
    "            line = line.strip() # remove leading/trailing whitespaces\n",
    "            if line:\n",
    "                if not line.startswith('ARG') and not line.startswith('REL') and not line.startswith('NONE'):\n",
    "                    sentence = line\n",
    "                else:\n",
    "                    current_label = line\n",
    "                    sentences.append(sentence)\n",
    "                    labels.append(current_label)\n",
    "                    \n",
    "    return sentences, labels"
   ],
   "id": "44174668a4419709",
   "outputs": [],
   "execution_count": 3
  },
  {
   "metadata": {
    "ExecuteTime": {
     "end_time": "2024-09-25T17:15:08.192127Z",
     "start_time": "2024-09-25T17:15:08.008755Z"
    }
   },
   "cell_type": "code",
   "source": [
    "# load the dataset into a pandas dataframe\n",
    "sentences, labels = load_dataset('./Dataset/original_cleaned')\n",
    "df = pd.DataFrame({\n",
    "    'Sentence': sentences,\n",
    "    'Labels': labels\n",
    "})"
   ],
   "id": "ce4b98ac876c1260",
   "outputs": [],
   "execution_count": 4
  },
  {
   "metadata": {
    "ExecuteTime": {
     "end_time": "2024-09-25T17:15:08.407871Z",
     "start_time": "2024-09-25T17:15:08.402165Z"
    }
   },
   "cell_type": "code",
   "source": "df.shape",
   "id": "a33caf102ff39d79",
   "outputs": [
    {
     "data": {
      "text/plain": [
       "(166889, 2)"
      ]
     },
     "execution_count": 5,
     "metadata": {},
     "output_type": "execute_result"
    }
   ],
   "execution_count": 5
  },
  {
   "metadata": {
    "ExecuteTime": {
     "end_time": "2024-09-25T17:15:08.994061Z",
     "start_time": "2024-09-25T17:15:08.986973Z"
    }
   },
   "cell_type": "code",
   "source": "df",
   "id": "2450b74c76bca592",
   "outputs": [
    {
     "data": {
      "text/plain": [
       "                                                 Sentence  \\\n",
       "0       Simon is quoted as saying `` if you 'd ever se...   \n",
       "1       Simon is quoted as saying `` if you 'd ever se...   \n",
       "2       Simon is quoted as saying `` if you 'd ever se...   \n",
       "3       Simon is quoted as saying `` if you 'd ever se...   \n",
       "4                            The couple had no children .   \n",
       "...                                                   ...   \n",
       "166884  TIME ARG1 REL NONE NONE ARG2 ARG2 ARG2 ARG2 AR...   \n",
       "166885  TIME ARG1 REL NONE NONE ARG2 ARG2 ARG2 ARG2 AR...   \n",
       "166886  This was the time when Yang Luchan made the Ch...   \n",
       "166887  This was the time when Yang Luchan made the Ch...   \n",
       "166888  This was the time when Yang Luchan made the Ch...   \n",
       "\n",
       "                                                   Labels  \n",
       "0       ARG1 REL REL ARG2 ARG2 ARG2 ARG2 ARG2 ARG2 ARG...  \n",
       "1       NONE NONE NONE NONE NONE NONE NONE NONE NONE N...  \n",
       "2       NONE NONE NONE NONE NONE NONE NONE ARG1 REL TI...  \n",
       "3       ARG1 NONE NONE REL REL NONE NONE NONE NONE NON...  \n",
       "4                            ARG1 ARG1 REL ARG2 ARG2 NONE  \n",
       "...                                                   ...  \n",
       "166884  NONE NONE NONE NONE NONE ARG1 REL ARG2 ARG2 AR...  \n",
       "166885  NONE NONE NONE NONE NONE NONE NONE NONE NONE N...  \n",
       "166886  ARG1 REL ARG2 ARG2 ARG2 ARG2 ARG2 ARG2 ARG2 AR...  \n",
       "166887  NONE NONE TIME TIME NONE ARG1 ARG1 REL ARG2 AR...  \n",
       "166888  NONE NONE NONE NONE NONE NONE NONE NONE ARG1 A...  \n",
       "\n",
       "[166889 rows x 2 columns]"
      ],
      "text/html": [
       "<div>\n",
       "<style scoped>\n",
       "    .dataframe tbody tr th:only-of-type {\n",
       "        vertical-align: middle;\n",
       "    }\n",
       "\n",
       "    .dataframe tbody tr th {\n",
       "        vertical-align: top;\n",
       "    }\n",
       "\n",
       "    .dataframe thead th {\n",
       "        text-align: right;\n",
       "    }\n",
       "</style>\n",
       "<table border=\"1\" class=\"dataframe\">\n",
       "  <thead>\n",
       "    <tr style=\"text-align: right;\">\n",
       "      <th></th>\n",
       "      <th>Sentence</th>\n",
       "      <th>Labels</th>\n",
       "    </tr>\n",
       "  </thead>\n",
       "  <tbody>\n",
       "    <tr>\n",
       "      <th>0</th>\n",
       "      <td>Simon is quoted as saying `` if you 'd ever se...</td>\n",
       "      <td>ARG1 REL REL ARG2 ARG2 ARG2 ARG2 ARG2 ARG2 ARG...</td>\n",
       "    </tr>\n",
       "    <tr>\n",
       "      <th>1</th>\n",
       "      <td>Simon is quoted as saying `` if you 'd ever se...</td>\n",
       "      <td>NONE NONE NONE NONE NONE NONE NONE NONE NONE N...</td>\n",
       "    </tr>\n",
       "    <tr>\n",
       "      <th>2</th>\n",
       "      <td>Simon is quoted as saying `` if you 'd ever se...</td>\n",
       "      <td>NONE NONE NONE NONE NONE NONE NONE ARG1 REL TI...</td>\n",
       "    </tr>\n",
       "    <tr>\n",
       "      <th>3</th>\n",
       "      <td>Simon is quoted as saying `` if you 'd ever se...</td>\n",
       "      <td>ARG1 NONE NONE REL REL NONE NONE NONE NONE NON...</td>\n",
       "    </tr>\n",
       "    <tr>\n",
       "      <th>4</th>\n",
       "      <td>The couple had no children .</td>\n",
       "      <td>ARG1 ARG1 REL ARG2 ARG2 NONE</td>\n",
       "    </tr>\n",
       "    <tr>\n",
       "      <th>...</th>\n",
       "      <td>...</td>\n",
       "      <td>...</td>\n",
       "    </tr>\n",
       "    <tr>\n",
       "      <th>166884</th>\n",
       "      <td>TIME ARG1 REL NONE NONE ARG2 ARG2 ARG2 ARG2 AR...</td>\n",
       "      <td>NONE NONE NONE NONE NONE ARG1 REL ARG2 ARG2 AR...</td>\n",
       "    </tr>\n",
       "    <tr>\n",
       "      <th>166885</th>\n",
       "      <td>TIME ARG1 REL NONE NONE ARG2 ARG2 ARG2 ARG2 AR...</td>\n",
       "      <td>NONE NONE NONE NONE NONE NONE NONE NONE NONE N...</td>\n",
       "    </tr>\n",
       "    <tr>\n",
       "      <th>166886</th>\n",
       "      <td>This was the time when Yang Luchan made the Ch...</td>\n",
       "      <td>ARG1 REL ARG2 ARG2 ARG2 ARG2 ARG2 ARG2 ARG2 AR...</td>\n",
       "    </tr>\n",
       "    <tr>\n",
       "      <th>166887</th>\n",
       "      <td>This was the time when Yang Luchan made the Ch...</td>\n",
       "      <td>NONE NONE TIME TIME NONE ARG1 ARG1 REL ARG2 AR...</td>\n",
       "    </tr>\n",
       "    <tr>\n",
       "      <th>166888</th>\n",
       "      <td>This was the time when Yang Luchan made the Ch...</td>\n",
       "      <td>NONE NONE NONE NONE NONE NONE NONE NONE ARG1 A...</td>\n",
       "    </tr>\n",
       "  </tbody>\n",
       "</table>\n",
       "<p>166889 rows × 2 columns</p>\n",
       "</div>"
      ]
     },
     "execution_count": 6,
     "metadata": {},
     "output_type": "execute_result"
    }
   ],
   "execution_count": 6
  },
  {
   "metadata": {
    "ExecuteTime": {
     "end_time": "2024-09-25T17:15:09.927541Z",
     "start_time": "2024-09-25T17:15:09.853304Z"
    }
   },
   "cell_type": "code",
   "source": [
    "# convert all sentences to lower case\n",
    "df['Sentence'] = df['Sentence'].str.lower()"
   ],
   "id": "3909297a073ea9d5",
   "outputs": [],
   "execution_count": 7
  },
  {
   "metadata": {
    "ExecuteTime": {
     "end_time": "2024-09-25T17:15:10.789031Z",
     "start_time": "2024-09-25T17:15:10.417904Z"
    }
   },
   "cell_type": "code",
   "source": [
    "# function to tokenize and compare the lengths\n",
    "nlp = spacy.load('en_core_web_sm')\n",
    "\n",
    "def check_token_label_length(row):\n",
    "    # tokenize each sentence\n",
    "    doc = nlp(row['Sentence'])\n",
    "    tokens = [token.text for token in doc]\n",
    "    labels = row['Labels'].split()\n",
    "    \n",
    "    return len(tokens) == len(labels), len(tokens), len(labels)"
   ],
   "id": "fd145502682e7d6b",
   "outputs": [],
   "execution_count": 8
  },
  {
   "metadata": {
    "jupyter": {
     "is_executing": true
    },
    "ExecuteTime": {
     "start_time": "2024-09-25T17:15:11.503175Z"
    }
   },
   "cell_type": "code",
   "source": [
    "# tokenization\n",
    "df['Token_Label_Match'] = df.apply(check_token_label_length, axis=1)"
   ],
   "id": "5dfa7e3f40ba3830",
   "outputs": [],
   "execution_count": null
  },
  {
   "metadata": {},
   "cell_type": "code",
   "outputs": [],
   "execution_count": null,
   "source": "df['Token_Label_Match']",
   "id": "44377ffcf8e4c711"
  },
  {
   "metadata": {
    "ExecuteTime": {
     "end_time": "2024-09-25T17:04:22.828183Z",
     "start_time": "2024-09-25T16:27:21.538252Z"
    }
   },
   "cell_type": "code",
   "source": "# splitting the dataset\n",
   "id": "1ed7b5d4706bdfcd",
   "outputs": [],
   "execution_count": null
  },
  {
   "metadata": {},
   "cell_type": "code",
   "outputs": [],
   "execution_count": null,
   "source": "",
   "id": "3387ef1d87bf3758"
  }
 ],
 "metadata": {
  "kernelspec": {
   "display_name": "myenv",
   "language": "python",
   "name": "myenv"
  },
  "language_info": {
   "codemirror_mode": {
    "name": "ipython",
    "version": 2
   },
   "file_extension": ".py",
   "mimetype": "text/x-python",
   "name": "python",
   "nbconvert_exporter": "python",
   "pygments_lexer": "ipython2",
   "version": "2.7.6"
  }
 },
 "nbformat": 4,
 "nbformat_minor": 5
}
