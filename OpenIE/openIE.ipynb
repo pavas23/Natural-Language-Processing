{
 "cells": [
  {
   "cell_type": "code",
   "execution_count": 1,
   "id": "187112dca637a1e4",
   "metadata": {
    "jupyter": {
     "is_executing": true
    }
   },
   "outputs": [],
   "source": [
    "import warnings\n",
    "warnings.filterwarnings(\"ignore\")"
   ]
  },
  {
   "attachments": {},
   "cell_type": "markdown",
   "id": "83bb9be6",
   "metadata": {},
   "source": [
    "### Importing Libraries"
   ]
  },
  {
   "cell_type": "code",
   "execution_count": 2,
   "id": "9440769d2e79d3a3",
   "metadata": {
    "jupyter": {
     "is_executing": true
    }
   },
   "outputs": [],
   "source": [
    "import spacy\n",
    "import logging\n",
    "import torch\n",
    "import pandas as pd\n",
    "import matplotlib.pyplot as plt\n",
    "from sklearn.model_selection import train_test_split\n",
    "from sklearn.preprocessing import LabelEncoder\n",
    "from transformers import BertTokenizer, BertModel\n",
    "from transformers import AutoTokenizer, AutoModel\n",
    "from torch.nn.utils.rnn import pad_sequence\n",
    "from torch.utils.data import DataLoader, TensorDataset\n",
    "import torch.nn as nn\n",
    "import torch.nn.functional as F\n",
    "import torch.autograd as autograd\n",
    "import torch.optim as optim\n",
    "from TorchCRF import CRF"
   ]
  },
  {
   "attachments": {},
   "cell_type": "markdown",
   "id": "7e9ccccf",
   "metadata": {},
   "source": [
    "### Load Dataset"
   ]
  },
  {
   "cell_type": "code",
   "execution_count": 3,
   "id": "44174668a4419709",
   "metadata": {
    "jupyter": {
     "is_executing": true
    }
   },
   "outputs": [],
   "source": [
    "# function to load the datatset\n",
    "def load_dataset(file_path):\n",
    "    sentences = []\n",
    "    labels = []\n",
    "    \n",
    "    with open(file_path, 'r') as f:\n",
    "        lines = f.readlines()\n",
    "        sentence = []\n",
    "        \n",
    "        for line in lines:\n",
    "            line = line.strip() # remove leading/trailing whitespaces\n",
    "            if line:\n",
    "                if not line.startswith('ARG1') and not line.startswith('ARG2') and not line.startswith('REL') and not line.startswith('LOC') and not line.startswith('TIME') and not line.startswith('NONE'):\n",
    "                    sentence = line\n",
    "                else:\n",
    "                    current_label = line\n",
    "                    sentences.append(sentence)\n",
    "                    labels.append(current_label)\n",
    "                    \n",
    "    return sentences, labels"
   ]
  },
  {
   "cell_type": "code",
   "execution_count": 4,
   "id": "ce4b98ac876c1260",
   "metadata": {
    "jupyter": {
     "is_executing": true
    }
   },
   "outputs": [],
   "source": [
    "# load the dataset into a pandas dataframe\n",
    "sentences, labels = load_dataset('./Dataset/original_cleaned')\n",
    "df = pd.DataFrame({\n",
    "    'Sentence': sentences,\n",
    "    'Labels': labels\n",
    "})"
   ]
  },
  {
   "cell_type": "code",
   "execution_count": 5,
   "id": "a33caf102ff39d79",
   "metadata": {
    "jupyter": {
     "is_executing": true
    }
   },
   "outputs": [
    {
     "data": {
      "text/plain": [
       "(180517, 2)"
      ]
     },
     "execution_count": 5,
     "metadata": {},
     "output_type": "execute_result"
    }
   ],
   "source": [
    "df.shape"
   ]
  },
  {
   "cell_type": "code",
   "execution_count": 6,
   "id": "2450b74c76bca592",
   "metadata": {
    "jupyter": {
     "is_executing": true
    }
   },
   "outputs": [
    {
     "data": {
      "text/html": [
       "<div>\n",
       "<style scoped>\n",
       "    .dataframe tbody tr th:only-of-type {\n",
       "        vertical-align: middle;\n",
       "    }\n",
       "\n",
       "    .dataframe tbody tr th {\n",
       "        vertical-align: top;\n",
       "    }\n",
       "\n",
       "    .dataframe thead th {\n",
       "        text-align: right;\n",
       "    }\n",
       "</style>\n",
       "<table border=\"1\" class=\"dataframe\">\n",
       "  <thead>\n",
       "    <tr style=\"text-align: right;\">\n",
       "      <th></th>\n",
       "      <th>Sentence</th>\n",
       "      <th>Labels</th>\n",
       "    </tr>\n",
       "  </thead>\n",
       "  <tbody>\n",
       "    <tr>\n",
       "      <th>0</th>\n",
       "      <td>Simon is quoted as saying `` if you 'd ever se...</td>\n",
       "      <td>ARG1 REL REL ARG2 ARG2 ARG2 ARG2 ARG2 ARG2 ARG...</td>\n",
       "    </tr>\n",
       "    <tr>\n",
       "      <th>1</th>\n",
       "      <td>Simon is quoted as saying `` if you 'd ever se...</td>\n",
       "      <td>NONE NONE NONE NONE NONE NONE NONE NONE NONE N...</td>\n",
       "    </tr>\n",
       "    <tr>\n",
       "      <th>2</th>\n",
       "      <td>Simon is quoted as saying `` if you 'd ever se...</td>\n",
       "      <td>NONE NONE NONE NONE NONE NONE NONE ARG1 REL TI...</td>\n",
       "    </tr>\n",
       "    <tr>\n",
       "      <th>3</th>\n",
       "      <td>Simon is quoted as saying `` if you 'd ever se...</td>\n",
       "      <td>ARG1 NONE NONE REL REL NONE NONE NONE NONE NON...</td>\n",
       "    </tr>\n",
       "    <tr>\n",
       "      <th>4</th>\n",
       "      <td>The couple had no children .</td>\n",
       "      <td>ARG1 ARG1 REL ARG2 ARG2 NONE</td>\n",
       "    </tr>\n",
       "    <tr>\n",
       "      <th>...</th>\n",
       "      <td>...</td>\n",
       "      <td>...</td>\n",
       "    </tr>\n",
       "    <tr>\n",
       "      <th>180512</th>\n",
       "      <td>Afterwards Ong wrote : `` Hands holding Tai ch...</td>\n",
       "      <td>NONE NONE NONE NONE NONE ARG1 REL ARG2 ARG2 AR...</td>\n",
       "    </tr>\n",
       "    <tr>\n",
       "      <th>180513</th>\n",
       "      <td>Afterwards Ong wrote : `` Hands holding Tai ch...</td>\n",
       "      <td>NONE NONE NONE NONE NONE NONE NONE NONE NONE N...</td>\n",
       "    </tr>\n",
       "    <tr>\n",
       "      <th>180514</th>\n",
       "      <td>This was the time when Yang Luchan made the Ch...</td>\n",
       "      <td>ARG1 REL ARG2 ARG2 ARG2 ARG2 ARG2 ARG2 ARG2 AR...</td>\n",
       "    </tr>\n",
       "    <tr>\n",
       "      <th>180515</th>\n",
       "      <td>This was the time when Yang Luchan made the Ch...</td>\n",
       "      <td>NONE NONE TIME TIME NONE ARG1 ARG1 REL ARG2 AR...</td>\n",
       "    </tr>\n",
       "    <tr>\n",
       "      <th>180516</th>\n",
       "      <td>This was the time when Yang Luchan made the Ch...</td>\n",
       "      <td>NONE NONE NONE NONE NONE NONE NONE NONE ARG1 A...</td>\n",
       "    </tr>\n",
       "  </tbody>\n",
       "</table>\n",
       "<p>180517 rows × 2 columns</p>\n",
       "</div>"
      ],
      "text/plain": [
       "                                                 Sentence  \\\n",
       "0       Simon is quoted as saying `` if you 'd ever se...   \n",
       "1       Simon is quoted as saying `` if you 'd ever se...   \n",
       "2       Simon is quoted as saying `` if you 'd ever se...   \n",
       "3       Simon is quoted as saying `` if you 'd ever se...   \n",
       "4                            The couple had no children .   \n",
       "...                                                   ...   \n",
       "180512  Afterwards Ong wrote : `` Hands holding Tai ch...   \n",
       "180513  Afterwards Ong wrote : `` Hands holding Tai ch...   \n",
       "180514  This was the time when Yang Luchan made the Ch...   \n",
       "180515  This was the time when Yang Luchan made the Ch...   \n",
       "180516  This was the time when Yang Luchan made the Ch...   \n",
       "\n",
       "                                                   Labels  \n",
       "0       ARG1 REL REL ARG2 ARG2 ARG2 ARG2 ARG2 ARG2 ARG...  \n",
       "1       NONE NONE NONE NONE NONE NONE NONE NONE NONE N...  \n",
       "2       NONE NONE NONE NONE NONE NONE NONE ARG1 REL TI...  \n",
       "3       ARG1 NONE NONE REL REL NONE NONE NONE NONE NON...  \n",
       "4                            ARG1 ARG1 REL ARG2 ARG2 NONE  \n",
       "...                                                   ...  \n",
       "180512  NONE NONE NONE NONE NONE ARG1 REL ARG2 ARG2 AR...  \n",
       "180513  NONE NONE NONE NONE NONE NONE NONE NONE NONE N...  \n",
       "180514  ARG1 REL ARG2 ARG2 ARG2 ARG2 ARG2 ARG2 ARG2 AR...  \n",
       "180515  NONE NONE TIME TIME NONE ARG1 ARG1 REL ARG2 AR...  \n",
       "180516  NONE NONE NONE NONE NONE NONE NONE NONE ARG1 A...  \n",
       "\n",
       "[180517 rows x 2 columns]"
      ]
     },
     "execution_count": 6,
     "metadata": {},
     "output_type": "execute_result"
    }
   ],
   "source": [
    "df"
   ]
  },
  {
   "cell_type": "code",
   "execution_count": 7,
   "id": "0e8f29ba",
   "metadata": {},
   "outputs": [],
   "source": [
    "# change this later on !!!!\n",
    "df = df[:4500]"
   ]
  },
  {
   "attachments": {},
   "cell_type": "markdown",
   "id": "5a80c51c",
   "metadata": {},
   "source": [
    "### Tokenize Sentences"
   ]
  },
  {
   "cell_type": "code",
   "execution_count": 8,
   "id": "17373580",
   "metadata": {},
   "outputs": [],
   "source": [
    "def remerge_sent(sent):\n",
    "    # merges tokens which are not separated by white-space\n",
    "    # does this recursively until no further changes\n",
    "    changed = True\n",
    "    while changed:\n",
    "        changed = False\n",
    "        i = 0\n",
    "        while i < sent.__len__() - 1:\n",
    "            tok = sent[i]\n",
    "            if not tok.whitespace_:\n",
    "                ntok = sent[i + 1]\n",
    "                # in-place operation.\n",
    "                with sent.retokenize() as retokenizer:\n",
    "                    retokenizer.merge(sent[i: i + 2])\n",
    "                changed = True\n",
    "            i += 1\n",
    "    return sent"
   ]
  },
  {
   "cell_type": "code",
   "execution_count": 9,
   "id": "940e825e",
   "metadata": {},
   "outputs": [],
   "source": [
    "# Tokenize sentences using spacy\n",
    "nlp = spacy.load('en_core_web_sm')"
   ]
  },
  {
   "cell_type": "code",
   "execution_count": 10,
   "id": "2b5b9690",
   "metadata": {},
   "outputs": [],
   "source": [
    "def check_token_label_length(row):\n",
    "    doc = nlp(row['Sentence'])\n",
    "    spacy_sentence = remerge_sent(doc)\n",
    "    tokens = [token.text for token in spacy_sentence]\n",
    "    labels = row['Labels'].split()\n",
    "\n",
    "    is_match = len(tokens) == len(labels)\n",
    "    return is_match, len(tokens), len(labels), tokens"
   ]
  },
  {
   "cell_type": "code",
   "execution_count": 11,
   "id": "fa5700ca",
   "metadata": {},
   "outputs": [],
   "source": [
    "df[['Token_Label_Match', 'Num_Tokens', 'Num_Labels', 'Tokens']] = df.apply(check_token_label_length, axis=1, result_type=\"expand\")"
   ]
  },
  {
   "cell_type": "code",
   "execution_count": 12,
   "id": "114b2a98",
   "metadata": {},
   "outputs": [
    {
     "data": {
      "text/html": [
       "<div>\n",
       "<style scoped>\n",
       "    .dataframe tbody tr th:only-of-type {\n",
       "        vertical-align: middle;\n",
       "    }\n",
       "\n",
       "    .dataframe tbody tr th {\n",
       "        vertical-align: top;\n",
       "    }\n",
       "\n",
       "    .dataframe thead th {\n",
       "        text-align: right;\n",
       "    }\n",
       "</style>\n",
       "<table border=\"1\" class=\"dataframe\">\n",
       "  <thead>\n",
       "    <tr style=\"text-align: right;\">\n",
       "      <th></th>\n",
       "      <th>Sentence</th>\n",
       "      <th>Labels</th>\n",
       "      <th>Token_Label_Match</th>\n",
       "      <th>Num_Tokens</th>\n",
       "      <th>Num_Labels</th>\n",
       "      <th>Tokens</th>\n",
       "    </tr>\n",
       "  </thead>\n",
       "  <tbody>\n",
       "    <tr>\n",
       "      <th>0</th>\n",
       "      <td>Simon is quoted as saying `` if you 'd ever se...</td>\n",
       "      <td>ARG1 REL REL ARG2 ARG2 ARG2 ARG2 ARG2 ARG2 ARG...</td>\n",
       "      <td>True</td>\n",
       "      <td>32</td>\n",
       "      <td>32</td>\n",
       "      <td>[Simon, is, quoted, as, saying, ``, if, you, '...</td>\n",
       "    </tr>\n",
       "    <tr>\n",
       "      <th>1</th>\n",
       "      <td>Simon is quoted as saying `` if you 'd ever se...</td>\n",
       "      <td>NONE NONE NONE NONE NONE NONE NONE NONE NONE N...</td>\n",
       "      <td>True</td>\n",
       "      <td>32</td>\n",
       "      <td>32</td>\n",
       "      <td>[Simon, is, quoted, as, saying, ``, if, you, '...</td>\n",
       "    </tr>\n",
       "    <tr>\n",
       "      <th>2</th>\n",
       "      <td>Simon is quoted as saying `` if you 'd ever se...</td>\n",
       "      <td>NONE NONE NONE NONE NONE NONE NONE ARG1 REL TI...</td>\n",
       "      <td>True</td>\n",
       "      <td>32</td>\n",
       "      <td>32</td>\n",
       "      <td>[Simon, is, quoted, as, saying, ``, if, you, '...</td>\n",
       "    </tr>\n",
       "    <tr>\n",
       "      <th>3</th>\n",
       "      <td>Simon is quoted as saying `` if you 'd ever se...</td>\n",
       "      <td>ARG1 NONE NONE REL REL NONE NONE NONE NONE NON...</td>\n",
       "      <td>True</td>\n",
       "      <td>32</td>\n",
       "      <td>32</td>\n",
       "      <td>[Simon, is, quoted, as, saying, ``, if, you, '...</td>\n",
       "    </tr>\n",
       "    <tr>\n",
       "      <th>4</th>\n",
       "      <td>The couple had no children .</td>\n",
       "      <td>ARG1 ARG1 REL ARG2 ARG2 NONE</td>\n",
       "      <td>True</td>\n",
       "      <td>6</td>\n",
       "      <td>6</td>\n",
       "      <td>[The, couple, had, no, children, .]</td>\n",
       "    </tr>\n",
       "  </tbody>\n",
       "</table>\n",
       "</div>"
      ],
      "text/plain": [
       "                                            Sentence  \\\n",
       "0  Simon is quoted as saying `` if you 'd ever se...   \n",
       "1  Simon is quoted as saying `` if you 'd ever se...   \n",
       "2  Simon is quoted as saying `` if you 'd ever se...   \n",
       "3  Simon is quoted as saying `` if you 'd ever se...   \n",
       "4                       The couple had no children .   \n",
       "\n",
       "                                              Labels  Token_Label_Match  \\\n",
       "0  ARG1 REL REL ARG2 ARG2 ARG2 ARG2 ARG2 ARG2 ARG...               True   \n",
       "1  NONE NONE NONE NONE NONE NONE NONE NONE NONE N...               True   \n",
       "2  NONE NONE NONE NONE NONE NONE NONE ARG1 REL TI...               True   \n",
       "3  ARG1 NONE NONE REL REL NONE NONE NONE NONE NON...               True   \n",
       "4                       ARG1 ARG1 REL ARG2 ARG2 NONE               True   \n",
       "\n",
       "   Num_Tokens  Num_Labels                                             Tokens  \n",
       "0          32          32  [Simon, is, quoted, as, saying, ``, if, you, '...  \n",
       "1          32          32  [Simon, is, quoted, as, saying, ``, if, you, '...  \n",
       "2          32          32  [Simon, is, quoted, as, saying, ``, if, you, '...  \n",
       "3          32          32  [Simon, is, quoted, as, saying, ``, if, you, '...  \n",
       "4           6           6                [The, couple, had, no, children, .]  "
      ]
     },
     "execution_count": 12,
     "metadata": {},
     "output_type": "execute_result"
    }
   ],
   "source": [
    "df.head()"
   ]
  },
  {
   "cell_type": "code",
   "execution_count": 13,
   "id": "435c74bd",
   "metadata": {},
   "outputs": [
    {
     "name": "stdout",
     "output_type": "stream",
     "text": [
      "Empty DataFrame\n",
      "Columns: [Sentence, Labels, Token_Label_Match, Num_Tokens, Num_Labels, Tokens]\n",
      "Index: []\n"
     ]
    }
   ],
   "source": [
    "# checking rows where token and label count don't match\n",
    "mismatched_rows = df[df['Token_Label_Match'] == False]\n",
    "print(mismatched_rows)"
   ]
  },
  {
   "attachments": {},
   "cell_type": "markdown",
   "id": "30bc7826",
   "metadata": {},
   "source": [
    "### Generate BERT Embeddings"
   ]
  },
  {
   "cell_type": "code",
   "execution_count": 14,
   "id": "0867cbf6",
   "metadata": {},
   "outputs": [],
   "source": [
    "# Load the pre-trained BERT tokenizer and model\n",
    "# Load the fast version of the tokenizer\n",
    "tokenizer = AutoTokenizer.from_pretrained('bert-base-uncased', use_fast=True)\n",
    "bert_model = AutoModel.from_pretrained('bert-base-uncased')\n",
    "\n",
    "device = torch.device(\"cuda\" if torch.cuda.is_available() else \"cpu\")\n",
    "bert_model = bert_model.to(device)"
   ]
  },
  {
   "cell_type": "code",
   "execution_count": 15,
   "id": "22e9c5f4",
   "metadata": {},
   "outputs": [],
   "source": [
    "# Retrieves BERT embeddings for a list of tokens using a fast tokenizer, enabling accurate aggregation of subword embeddings into their original token representations.\n",
    "def get_bert_embeddings(tokens):\n",
    "    inputs = tokenizer(tokens, return_tensors='pt', is_split_into_words=True, padding=False, truncation=True)\n",
    "\n",
    "    # Get BERT embeddings from the model\n",
    "    with torch.no_grad():\n",
    "        outputs = bert_model(**inputs)\n",
    "\n",
    "    # Get the embeddings for each subword\n",
    "    token_embeddings = outputs.last_hidden_state.squeeze(0)  # Shape: (sequence_length, hidden_size)\n",
    "    # Get word_ids to align subword tokens with the original tokens\n",
    "    word_ids = inputs.word_ids()\n",
    "\n",
    "    # Aggregate subword embeddings back to their original tokens\n",
    "    aggregated_embeddings = []\n",
    "    current_token_embeddings = []\n",
    "\n",
    "    for idx, word_id in enumerate(word_ids):\n",
    "        if word_id is None:\n",
    "            continue\n",
    "        if len(current_token_embeddings) > 0 and word_id != word_ids[idx - 1]:\n",
    "            aggregated_embeddings.append(torch.mean(torch.stack(current_token_embeddings), dim=0))\n",
    "            current_token_embeddings = []\n",
    "        current_token_embeddings.append(token_embeddings[idx])\n",
    "    \n",
    "    if len(current_token_embeddings) > 0:\n",
    "        aggregated_embeddings.append(torch.mean(torch.stack(current_token_embeddings), dim=0))\n",
    "\n",
    "    return torch.stack(aggregated_embeddings)"
   ]
  },
  {
   "cell_type": "code",
   "execution_count": 16,
   "id": "5460e08a",
   "metadata": {},
   "outputs": [],
   "source": [
    "# Function to generate BERT embeddings for dataFrame\n",
    "def generate_embeddings(df):\n",
    "    embeddings_list = []\n",
    "    for _, row in df.iterrows():\n",
    "        tokenized_sentence = row['Tokens']\n",
    "        embeddings = get_bert_embeddings(tokenized_sentence)\n",
    "        embeddings_list.append(embeddings)\n",
    "    return embeddings_list"
   ]
  },
  {
   "cell_type": "code",
   "execution_count": 17,
   "id": "57bafc56",
   "metadata": {},
   "outputs": [],
   "source": [
    "embeddings_list = generate_embeddings(df)"
   ]
  },
  {
   "cell_type": "code",
   "execution_count": 18,
   "id": "bd2c8082",
   "metadata": {},
   "outputs": [
    {
     "name": "stdout",
     "output_type": "stream",
     "text": [
      "The length of the longest embedding is: 133\n"
     ]
    }
   ],
   "source": [
    "# Checking the length of longest sentence embedding\n",
    "max_len = max(embedding.shape[0] for embedding in embeddings_list)\n",
    "print(f\"The length of the longest embedding is: {max_len}\")"
   ]
  },
  {
   "cell_type": "code",
   "execution_count": 19,
   "id": "e0c01791",
   "metadata": {},
   "outputs": [
    {
     "name": "stdout",
     "output_type": "stream",
     "text": [
      "torch.Size([4500, 133, 768])\n"
     ]
    }
   ],
   "source": [
    "# pad the embeddings to ensure uniformity across dataset as model will be trained in batches\n",
    "padded_embeddings = pad_sequence(embeddings_list, batch_first=True)\n",
    "df['Embeddings'] = [padded_embeddings[i] for i in range(padded_embeddings.shape[0])]\n",
    "print(padded_embeddings.shape)"
   ]
  },
  {
   "attachments": {},
   "cell_type": "markdown",
   "id": "39732273",
   "metadata": {},
   "source": [
    "### Encoding the Labels"
   ]
  },
  {
   "cell_type": "code",
   "execution_count": 20,
   "id": "777f3294",
   "metadata": {},
   "outputs": [],
   "source": [
    "# encode the labels\n",
    "label_encoder = LabelEncoder()\n",
    "labels_list = ['ARG1', 'ARG2', 'REL', 'TIME', 'LOC', 'NONE', 'PADDING'] # Adding a new label for padding\n",
    "label_encoder.fit(labels_list)\n",
    "\n",
    "df['Encoded_Labels'] = df['Labels'].apply(lambda x: label_encoder.transform(x.split()))"
   ]
  },
  {
   "cell_type": "code",
   "execution_count": 21,
   "id": "d7263951",
   "metadata": {},
   "outputs": [
    {
     "data": {
      "text/plain": [
       "0       [0, 5, 5, 1, 1, 1, 1, 1, 1, 1, 1, 1, 1, 1, 1, ...\n",
       "1       [3, 3, 3, 3, 3, 3, 3, 3, 3, 3, 3, 3, 3, 3, 3, ...\n",
       "2       [3, 3, 3, 3, 3, 3, 3, 0, 5, 6, 5, 1, 3, 3, 3, ...\n",
       "3       [0, 3, 3, 5, 5, 3, 3, 3, 3, 3, 3, 3, 3, 1, 1, ...\n",
       "4                                      [0, 0, 5, 1, 1, 3]\n",
       "                              ...                        \n",
       "4495    [0, 0, 0, 0, 0, 3, 3, 3, 3, 3, 3, 3, 3, 3, 5, ...\n",
       "4496    [3, 3, 3, 3, 3, 3, 3, 3, 3, 3, 3, 3, 3, 3, 3, ...\n",
       "4497    [3, 3, 0, 0, 0, 0, 3, 3, 5, 1, 1, 1, 1, 3, 3, ...\n",
       "4498    [3, 3, 3, 3, 3, 3, 3, 3, 3, 3, 3, 3, 3, 3, 0, ...\n",
       "4499    [0, 0, 0, 5, 5, 1, 1, 1, 1, 1, 1, 1, 3, 3, 3, ...\n",
       "Name: Encoded_Labels, Length: 4500, dtype: object"
      ]
     },
     "execution_count": 21,
     "metadata": {},
     "output_type": "execute_result"
    }
   ],
   "source": [
    "# Encoded labels are of different lengths\n",
    "df['Encoded_Labels']"
   ]
  },
  {
   "cell_type": "code",
   "execution_count": 22,
   "id": "f81bf6f5",
   "metadata": {},
   "outputs": [],
   "source": [
    "# Function to pad labels to max length\n",
    "def pad_labels(labels, max_len, padding_label):\n",
    "    # Initialize a tensor with the padding label (assuming integer encoding)\n",
    "    padded_labels = torch.full((max_len,), padding_label, dtype=torch.long)\n",
    "    padded_labels[:len(labels)] = torch.tensor(labels, dtype=torch.long)\n",
    "    return padded_labels"
   ]
  },
  {
   "cell_type": "code",
   "execution_count": 23,
   "id": "4bf70122",
   "metadata": {},
   "outputs": [],
   "source": [
    "padding_label = label_encoder.transform(['PADDING'])[0]\n",
    "max_len = max(len(label) for label in df['Encoded_Labels'])\n",
    "\n",
    "padded_labels = [pad_labels(label, max_len, padding_label) for label in df['Encoded_Labels']]\n",
    "df['Padded_Labels'] = padded_labels"
   ]
  },
  {
   "cell_type": "code",
   "execution_count": 24,
   "id": "c7609382",
   "metadata": {},
   "outputs": [
    {
     "name": "stdout",
     "output_type": "stream",
     "text": [
      "                                          Padded_Labels  Padded_Label_Length\n",
      "0     [tensor(0), tensor(5), tensor(5), tensor(1), t...                  133\n",
      "1     [tensor(3), tensor(3), tensor(3), tensor(3), t...                  133\n",
      "2     [tensor(3), tensor(3), tensor(3), tensor(3), t...                  133\n",
      "3     [tensor(0), tensor(3), tensor(3), tensor(5), t...                  133\n",
      "4     [tensor(0), tensor(0), tensor(5), tensor(1), t...                  133\n",
      "...                                                 ...                  ...\n",
      "4495  [tensor(0), tensor(0), tensor(0), tensor(0), t...                  133\n",
      "4496  [tensor(3), tensor(3), tensor(3), tensor(3), t...                  133\n",
      "4497  [tensor(3), tensor(3), tensor(0), tensor(0), t...                  133\n",
      "4498  [tensor(3), tensor(3), tensor(3), tensor(3), t...                  133\n",
      "4499  [tensor(0), tensor(0), tensor(0), tensor(5), t...                  133\n",
      "\n",
      "[4500 rows x 2 columns]\n"
     ]
    }
   ],
   "source": [
    "df['Padded_Label_Length'] = df['Padded_Labels'].apply(len)\n",
    "print(df[['Padded_Labels', 'Padded_Label_Length']])"
   ]
  },
  {
   "attachments": {},
   "cell_type": "markdown",
   "id": "b334aa4d",
   "metadata": {},
   "source": [
    "### Train Validation Split"
   ]
  },
  {
   "cell_type": "code",
   "execution_count": 25,
   "id": "428a8996",
   "metadata": {},
   "outputs": [],
   "source": [
    "# Split the data into training and validation sets\n",
    "train_embeddings, val_embeddings, train_labels, val_labels = train_test_split(\n",
    "    df['Embeddings'].tolist(),  \n",
    "    df['Padded_Labels'].tolist(),\n",
    "    test_size=0.1,\n",
    "    random_state=42\n",
    ")"
   ]
  },
  {
   "cell_type": "code",
   "execution_count": 26,
   "id": "3387ef1d87bf3758",
   "metadata": {
    "jupyter": {
     "is_executing": true
    }
   },
   "outputs": [],
   "source": [
    "train_dataset = TensorDataset(torch.stack(train_embeddings), torch.stack(train_labels))\n",
    "val_dataset = TensorDataset(torch.stack(val_embeddings), torch.stack(val_labels))\n",
    "\n",
    "# Create DataLoaders\n",
    "train_loader = DataLoader(train_dataset, batch_size=100, shuffle=True)\n",
    "val_loader = DataLoader(val_dataset, batch_size=100, shuffle=False)"
   ]
  },
  {
   "cell_type": "code",
   "execution_count": 27,
   "id": "17883615",
   "metadata": {},
   "outputs": [
    {
     "data": {
      "text/plain": [
       "{'ARG1': 0, 'ARG2': 1, 'LOC': 2, 'NONE': 3, 'PADDING': 4, 'REL': 5, 'TIME': 6}"
      ]
     },
     "execution_count": 27,
     "metadata": {},
     "output_type": "execute_result"
    }
   ],
   "source": [
    "label_to_idx = {label: idx for idx, label in enumerate(label_encoder.classes_)}\n",
    "label_to_idx"
   ]
  },
  {
   "cell_type": "code",
   "execution_count": 28,
   "id": "50e930a7",
   "metadata": {},
   "outputs": [
    {
     "data": {
      "text/plain": [
       "(tensor([[-1.3255,  0.1155, -1.4901,  ..., -0.3899,  0.3392,  0.0792],\n",
       "         [-1.1530,  0.3082, -1.2992,  ..., -0.2104,  0.2101, -0.4504],\n",
       "         [-1.0365,  0.1374, -0.9404,  ..., -0.2345,  0.2453,  0.3756],\n",
       "         ...,\n",
       "         [ 0.0000,  0.0000,  0.0000,  ...,  0.0000,  0.0000,  0.0000],\n",
       "         [ 0.0000,  0.0000,  0.0000,  ...,  0.0000,  0.0000,  0.0000],\n",
       "         [ 0.0000,  0.0000,  0.0000,  ...,  0.0000,  0.0000,  0.0000]]),\n",
       " tensor([3, 3, 3, 3, 3, 3, 3, 3, 3, 0, 3, 5, 1, 1, 1, 1, 1, 1, 1, 1, 1, 3, 4, 4,\n",
       "         4, 4, 4, 4, 4, 4, 4, 4, 4, 4, 4, 4, 4, 4, 4, 4, 4, 4, 4, 4, 4, 4, 4, 4,\n",
       "         4, 4, 4, 4, 4, 4, 4, 4, 4, 4, 4, 4, 4, 4, 4, 4, 4, 4, 4, 4, 4, 4, 4, 4,\n",
       "         4, 4, 4, 4, 4, 4, 4, 4, 4, 4, 4, 4, 4, 4, 4, 4, 4, 4, 4, 4, 4, 4, 4, 4,\n",
       "         4, 4, 4, 4, 4, 4, 4, 4, 4, 4, 4, 4, 4, 4, 4, 4, 4, 4, 4, 4, 4, 4, 4, 4,\n",
       "         4, 4, 4, 4, 4, 4, 4, 4, 4, 4, 4, 4, 4]))"
      ]
     },
     "execution_count": 28,
     "metadata": {},
     "output_type": "execute_result"
    }
   ],
   "source": [
    "train_dataset[0]"
   ]
  },
  {
   "cell_type": "markdown",
   "id": "633f8f38",
   "metadata": {},
   "source": [
    "### BiLSTM CRF Model"
   ]
  },
  {
   "cell_type": "code",
   "execution_count": 29,
   "id": "a16411f1",
   "metadata": {},
   "outputs": [],
   "source": [
    "class BiLSTM_CRF(nn.Module):\n",
    "    def __init__(self, input_dim, hidden_dim, output_dim):\n",
    "        super(BiLSTM_CRF, self).__init__()\n",
    "        self.lstm = nn.LSTM(input_dim, hidden_dim, bidirectional=True, batch_first=True, num_layers=2)\n",
    "        \n",
    "        # Additional FC layers for more complex feature extraction\n",
    "        self.fc1 = nn.Linear(hidden_dim * 2, hidden_dim)\n",
    "        self.fc2 = nn.Linear(hidden_dim, hidden_dim // 2)\n",
    "        self.fc3 = nn.Linear(hidden_dim // 2, output_dim)\n",
    "\n",
    "        self.activation = nn.ReLU()  # Activation function\n",
    "        self.dropout = nn.Dropout(0.5)  # Regularization\n",
    "        self.batch_norm = nn.BatchNorm1d(hidden_dim * 2)\n",
    "\n",
    "        # CRF layer\n",
    "        self.crf = CRF(output_dim, batch_first=True)\n",
    "\n",
    "    def forward(self, inputs, tags=None, mask=None):\n",
    "        lstm_out, _ = self.lstm(inputs)\n",
    "        lstm_out = self.dropout(lstm_out)\n",
    "        lstm_out = self.batch_norm(lstm_out.transpose(1, 2)).transpose(1, 2)\n",
    "\n",
    "        # Use more non-linear transformations before passing to CRF\n",
    "        fc_output = self.activation(self.fc1(lstm_out))\n",
    "        fc_output = self.activation(self.fc2(fc_output))\n",
    "        emissions = self.fc3(fc_output)  # Final emission scores for CRF\n",
    "\n",
    "        if tags is not None:  # If tags are provided, calculate the loss\n",
    "            loss = -self.crf(emissions, tags, mask=mask, reduction='mean')\n",
    "            return loss\n",
    "        \n",
    "        # If tags are not provided, return the predicted tags\n",
    "        return self.crf.decode(emissions, mask=mask)\n",
    "\n",
    "# Model parameters\n",
    "input_dim = 768  # BERT Embedding size\n",
    "hidden_dim = 256\n",
    "output_dim = len(labels_list)\n",
    "\n",
    "model = BiLSTM_CRF(input_dim, hidden_dim, output_dim)\n"
   ]
  },
  {
   "attachments": {},
   "cell_type": "markdown",
   "id": "d313f2d8",
   "metadata": {},
   "source": [
    "### Training Loop"
   ]
  },
  {
   "cell_type": "code",
   "execution_count": 46,
   "id": "77e24bd2",
   "metadata": {},
   "outputs": [
    {
     "name": "stdout",
     "output_type": "stream",
     "text": [
      "Epoch 1/50, Loss: 6.706679320916897\n",
      "Epoch 2/50, Loss: 6.341092807490651\n",
      "Epoch 3/50, Loss: 6.021706476444152\n",
      "Epoch 4/50, Loss: 5.778726147442329\n",
      "Epoch 5/50, Loss: 5.64476530726363\n",
      "Epoch 6/50, Loss: 5.485634687470227\n",
      "Epoch 7/50, Loss: 5.383613737618051\n",
      "Epoch 8/50, Loss: 5.159534896292338\n",
      "Epoch 9/50, Loss: 4.993217258918576\n",
      "Epoch 10/50, Loss: 4.918518985190043\n",
      "Epoch 11/50, Loss: 4.875582026272285\n",
      "Epoch 12/50, Loss: 4.794839498473377\n",
      "Epoch 13/50, Loss: 4.56845442260184\n",
      "Epoch 14/50, Loss: 4.466024276686878\n",
      "Epoch 15/50, Loss: 4.413448659385123\n",
      "Epoch 16/50, Loss: 4.284944069094774\n",
      "Epoch 17/50, Loss: 4.229527816539857\n",
      "Epoch 18/50, Loss: 4.105814689543189\n",
      "Epoch 19/50, Loss: 4.066477077763255\n",
      "Epoch 20/50, Loss: 3.94017944103334\n",
      "Epoch 21/50, Loss: 3.8789580042769267\n",
      "Epoch 22/50, Loss: 3.8223578522845014\n",
      "Epoch 23/50, Loss: 3.772686876901766\n",
      "Epoch 24/50, Loss: 3.703984120996987\n",
      "Epoch 25/50, Loss: 3.665695207874949\n",
      "Epoch 26/50, Loss: 3.673996378735798\n",
      "Epoch 27/50, Loss: 3.6130841825066544\n",
      "Epoch 28/50, Loss: 3.637516859101086\n",
      "Epoch 29/50, Loss: 3.5574088678127382\n",
      "Epoch 30/50, Loss: 3.5173809819105193\n",
      "Epoch 31/50, Loss: 3.468673066395085\n",
      "Epoch 32/50, Loss: 3.3944128548226704\n",
      "Epoch 33/50, Loss: 3.434981578733863\n",
      "Epoch 34/50, Loss: 3.3710236433075695\n",
      "Epoch 35/50, Loss: 3.5693136133798737\n",
      "Epoch 36/50, Loss: 3.462650014132988\n",
      "Epoch 37/50, Loss: 3.371841517890372\n",
      "Epoch 38/50, Loss: 3.322115380589555\n",
      "Epoch 39/50, Loss: 3.2443696580282073\n",
      "Epoch 40/50, Loss: 3.1895548657673163\n",
      "Epoch 41/50, Loss: 3.169802665710449\n",
      "Epoch 42/50, Loss: 3.123245035729757\n",
      "Epoch 43/50, Loss: 3.106672310247654\n",
      "Epoch 44/50, Loss: 3.071595064023646\n",
      "Epoch 45/50, Loss: 3.0634159925507336\n",
      "Epoch 46/50, Loss: 3.0506528005367373\n",
      "Epoch 47/50, Loss: 3.0127970183767925\n",
      "Epoch 48/50, Loss: 2.987003018216389\n",
      "Epoch 49/50, Loss: 2.9910010302939067\n",
      "Epoch 50/50, Loss: 2.9734950647121523\n"
     ]
    }
   ],
   "source": [
    "lr = 0.001\n",
    "num_epochs = 50\n",
    "\n",
    "loss_fn = nn.CrossEntropyLoss(ignore_index=label_to_idx['PADDING'])\n",
    "optimizer = optim.Adam(model.parameters(), lr=lr)\n",
    "\n",
    "# List to store the average loss per epoch\n",
    "epoch_losses = []\n",
    "\n",
    "# Training the model\n",
    "for epoch in range(num_epochs):\n",
    "    model.train()\n",
    "    total_loss = 0\n",
    "    \n",
    "    for batch in train_loader:\n",
    "        inputs, labels = batch\n",
    "\n",
    "        # Create mask for valid tokens (non-padding)\n",
    "        # will set valid labels to True and padding labels to False\n",
    "        mask = labels.ne(label_to_idx['PADDING'])  # Mask of shape [batch_size, seq_len]\n",
    "\n",
    "        # Forward pass through the model to get logits\n",
    "        loss = model(inputs, tags=labels, mask=mask)  #Shape: [batch_size, max_seq_len, num_classes]\n",
    "        \n",
    "        # Backpropagation\n",
    "        optimizer.zero_grad()\n",
    "        loss.backward()\n",
    "        optimizer.step()\n",
    "        \n",
    "        total_loss += loss.item()\n",
    "    \n",
    "    # Calculate average loss for the epoch\n",
    "    avg_loss = total_loss / len(train_loader)\n",
    "    epoch_losses.append(avg_loss)  # Store the average loss for this epoch\n",
    "\n",
    "    \n",
    "    print(f\"Epoch {epoch + 1}/{num_epochs}, Loss: {total_loss / len(train_loader)}\")"
   ]
  },
  {
   "cell_type": "code",
   "execution_count": 47,
   "id": "f0a9355e",
   "metadata": {},
   "outputs": [
    {
     "data": {
      "image/png": "[encoded data removed]",
      "text/plain": [
       "<Figure size 1000x500 with 1 Axes>"
      ]
     },
     "metadata": {},
     "output_type": "display_data"
    }
   ],
   "source": [
    "# Plotting the training loss\n",
    "plt.figure(figsize=(10, 5))\n",
    "plt.plot(range(1, num_epochs + 1), epoch_losses, marker='o')\n",
    "plt.title('Training Loss Over Epochs')\n",
    "plt.xlabel('Epochs')\n",
    "plt.ylabel('Average Loss')\n",
    "plt.grid()\n",
    "plt.xticks(range(1, num_epochs + 1))  # Set x-ticks to each epoch\n",
    "plt.show()"
   ]
  },
  {
   "attachments": {},
   "cell_type": "markdown",
   "id": "955f8135",
   "metadata": {},
   "source": [
    "### Evaluating on Validation Data"
   ]
  },
  {
   "cell_type": "code",
   "execution_count": 48,
   "id": "4e16eac5",
   "metadata": {},
   "outputs": [],
   "source": [
    "def evaluate_bilstm_crf(model, val_loader):\n",
    "    model.eval()\n",
    "    total_loss = 0.0\n",
    "    correct = 0\n",
    "    total = 0\n",
    "\n",
    "    all_predicted_tags = []  # List to collect all predicted tags for analysis\n",
    "\n",
    "    with torch.no_grad():\n",
    "        for inputs, labels in val_loader:\n",
    "            # Create mask for valid tokens (non-padding)\n",
    "            mask = labels.ne(label_to_idx['PADDING'])  # Mask of shape [batch_size, seq_len]\n",
    "\n",
    "            # Forward pass through the model to get predicted tags (for CRF)\n",
    "            predicted_tags = model(inputs)  # No need to pass the mask; CRF decodes the valid outputs\n",
    "\n",
    "            # Since predicted_tags is a list of lists, convert it to a tensor for indexing\n",
    "            predicted_tags = torch.tensor(predicted_tags, dtype=torch.long, device=labels.device)\n",
    "\n",
    "            # Calculate loss only for valid tokens (masking padding labels)\n",
    "            loss = model(inputs, tags=labels)  # This returns the loss with CRF\n",
    "            total_loss += loss.item()\n",
    "\n",
    "            # Mask needs to be applied on predicted_tags and labels\n",
    "            correct += (predicted_tags[mask] == labels[mask]).sum().item()  # Compare valid tokens\n",
    "            total += mask.sum().item()  # Count only valid tokens\n",
    "\n",
    "    avg_loss = total_loss / len(val_loader)  # Average loss per batch\n",
    "    accuracy = correct / total if total > 0 else 0  # Avoid division by zero\n",
    "    print(f'Validation Loss: {avg_loss:.4f}, Validation Accuracy: {accuracy:.4f}')\n",
    "    return avg_loss, accuracy"
   ]
  },
  {
   "cell_type": "code",
   "execution_count": 49,
   "id": "7f208994",
   "metadata": {},
   "outputs": [
    {
     "name": "stdout",
     "output_type": "stream",
     "text": [
      "Validation Loss: 998.1925, Validation Accuracy: 0.6112\n"
     ]
    }
   ],
   "source": [
    "val_loss, val_accuracy = evaluate_bilstm_crf(model, val_loader)"
   ]
  },
  {
   "attachments": {},
   "cell_type": "markdown",
   "id": "95834206",
   "metadata": {},
   "source": [
    "### Logging the Text Output"
   ]
  },
  {
   "cell_type": "code",
   "execution_count": 50,
   "id": "df8832f3",
   "metadata": {},
   "outputs": [],
   "source": [
    "# Set up logging\n",
    "logging.basicConfig(\n",
    "    filename='bilstm_crf_val_predictions.log', \n",
    "    level=logging.INFO, \n",
    "    format='%(asctime)s - %(message)s',\n",
    ")\n",
    "\n",
    "def evaluate_bilstm_crf_with_text_output(model, embeddings, labels):\n",
    "    model.eval()\n",
    "    with torch.no_grad():\n",
    "        for emb, true_labels in zip(embeddings, labels):\n",
    "            # Add batch dimension\n",
    "            emb = emb.unsqueeze(0)  # Shape: [1, seq_length, input_dim]\n",
    "            true_labels = true_labels.unsqueeze(0)  # Shape: [1, seq_length]\n",
    "\n",
    "            # Forward pass through the model to get predictions\n",
    "            # Ensure the model returns the predicted tags from CRF\n",
    "            predicted_tags = model(emb)  # Get predicted labels from CRF\n",
    "            \n",
    "            # Since `predicted_tags` is a list of predicted sequences, you may need to convert it to a tensor\n",
    "            # If you want to use just the first sequence for evaluation\n",
    "            if isinstance(predicted_tags, list):\n",
    "                predicted_indices = predicted_tags[0]  # Get the first sequence\n",
    "            else:\n",
    "                predicted_indices = predicted_tags  # Otherwise, use it directly\n",
    "\n",
    "            # Convert predicted and true label indices to label names\n",
    "            predicted_labels = label_encoder.inverse_transform(predicted_indices)  # No need for squeeze() here\n",
    "            true_labels_text = label_encoder.inverse_transform(true_labels.squeeze(0).cpu().numpy())\n",
    "\n",
    "            # Log the predicted and true labels\n",
    "            logging.info(f\"Predicted Labels: {predicted_labels}\")\n",
    "            logging.info(f\"True Labels:      {true_labels_text}\")\n",
    "            logging.info(\"-\" * 50)\n",
    "\n",
    "# Call the modified evaluation function\n",
    "evaluate_bilstm_crf_with_text_output(model, val_embeddings, val_labels)"
   ]
  },
  {
   "attachments": {},
   "cell_type": "markdown",
   "id": "38924a7c",
   "metadata": {},
   "source": [
    "### CaRB Metric"
   ]
  },
  {
   "cell_type": "code",
   "execution_count": 51,
   "id": "62db6abf",
   "metadata": {},
   "outputs": [],
   "source": [
    "def load_test_dataset(file_path):\n",
    "\n",
    "    with open(file_path, 'r', encoding='utf-8') as file:\n",
    "        sentences = file.readlines()\n",
    "\n",
    "    sentences = [sentence.strip() for sentence in sentences]\n",
    "    df_test = pd.DataFrame(sentences, columns=['Sentence'])\n",
    "    return df_test\n",
    "\n",
    "df_test = load_test_dataset('./Dataset/test.txt')"
   ]
  },
  {
   "cell_type": "code",
   "execution_count": 52,
   "id": "c8b58d8e",
   "metadata": {},
   "outputs": [
    {
     "data": {
      "text/html": [
       "<div>\n",
       "<style scoped>\n",
       "    .dataframe tbody tr th:only-of-type {\n",
       "        vertical-align: middle;\n",
       "    }\n",
       "\n",
       "    .dataframe tbody tr th {\n",
       "        vertical-align: top;\n",
       "    }\n",
       "\n",
       "    .dataframe thead th {\n",
       "        text-align: right;\n",
       "    }\n",
       "</style>\n",
       "<table border=\"1\" class=\"dataframe\">\n",
       "  <thead>\n",
       "    <tr style=\"text-align: right;\">\n",
       "      <th></th>\n",
       "      <th>Sentence</th>\n",
       "    </tr>\n",
       "  </thead>\n",
       "  <tbody>\n",
       "    <tr>\n",
       "      <th>0</th>\n",
       "      <td>32.7 % of all households were made up of indiv...</td>\n",
       "    </tr>\n",
       "    <tr>\n",
       "      <th>1</th>\n",
       "      <td>A CEN forms an important but small part of a L...</td>\n",
       "    </tr>\n",
       "    <tr>\n",
       "      <th>2</th>\n",
       "      <td>A Democrat , he became the youngest mayor in P...</td>\n",
       "    </tr>\n",
       "    <tr>\n",
       "      <th>3</th>\n",
       "      <td>A cafeteria is also located on the sixth floor...</td>\n",
       "    </tr>\n",
       "    <tr>\n",
       "      <th>4</th>\n",
       "      <td>A casting director at the time told Scott that...</td>\n",
       "    </tr>\n",
       "    <tr>\n",
       "      <th>...</th>\n",
       "      <td>...</td>\n",
       "    </tr>\n",
       "    <tr>\n",
       "      <th>636</th>\n",
       "      <td>`` Now everything '' -- such as program tradin...</td>\n",
       "    </tr>\n",
       "    <tr>\n",
       "      <th>637</th>\n",
       "      <td>`` The bottom line is that if we can get that ...</td>\n",
       "    </tr>\n",
       "    <tr>\n",
       "      <th>638</th>\n",
       "      <td>`` The only people who are flying are those wh...</td>\n",
       "    </tr>\n",
       "    <tr>\n",
       "      <th>639</th>\n",
       "      <td>`` To allow this massive level of unfettered f...</td>\n",
       "    </tr>\n",
       "    <tr>\n",
       "      <th>640</th>\n",
       "      <td>`` We were oversold and today we bounced back .</td>\n",
       "    </tr>\n",
       "  </tbody>\n",
       "</table>\n",
       "<p>641 rows × 1 columns</p>\n",
       "</div>"
      ],
      "text/plain": [
       "                                              Sentence\n",
       "0    32.7 % of all households were made up of indiv...\n",
       "1    A CEN forms an important but small part of a L...\n",
       "2    A Democrat , he became the youngest mayor in P...\n",
       "3    A cafeteria is also located on the sixth floor...\n",
       "4    A casting director at the time told Scott that...\n",
       "..                                                 ...\n",
       "636  `` Now everything '' -- such as program tradin...\n",
       "637  `` The bottom line is that if we can get that ...\n",
       "638  `` The only people who are flying are those wh...\n",
       "639  `` To allow this massive level of unfettered f...\n",
       "640    `` We were oversold and today we bounced back .\n",
       "\n",
       "[641 rows x 1 columns]"
      ]
     },
     "execution_count": 52,
     "metadata": {},
     "output_type": "execute_result"
    }
   ],
   "source": [
    "df_test"
   ]
  },
  {
   "cell_type": "code",
   "execution_count": 53,
   "id": "39928ac5",
   "metadata": {},
   "outputs": [],
   "source": [
    "def generate_test_token(row):\n",
    "    # Process the sentence with SpaCy\n",
    "    doc = nlp(row['Sentence'])\n",
    "    spacy_sentence = remerge_sent(doc)\n",
    "    tokens = [token.text for token in spacy_sentence]\n",
    "\n",
    "    return tokens"
   ]
  },
  {
   "cell_type": "code",
   "execution_count": 54,
   "id": "8ce4ee76",
   "metadata": {},
   "outputs": [],
   "source": [
    "df_test['Tokens'] = df_test.apply(generate_test_token, axis=1)"
   ]
  },
  {
   "cell_type": "code",
   "execution_count": 55,
   "id": "b1584859",
   "metadata": {},
   "outputs": [
    {
     "data": {
      "text/html": [
       "<div>\n",
       "<style scoped>\n",
       "    .dataframe tbody tr th:only-of-type {\n",
       "        vertical-align: middle;\n",
       "    }\n",
       "\n",
       "    .dataframe tbody tr th {\n",
       "        vertical-align: top;\n",
       "    }\n",
       "\n",
       "    .dataframe thead th {\n",
       "        text-align: right;\n",
       "    }\n",
       "</style>\n",
       "<table border=\"1\" class=\"dataframe\">\n",
       "  <thead>\n",
       "    <tr style=\"text-align: right;\">\n",
       "      <th></th>\n",
       "      <th>Sentence</th>\n",
       "      <th>Tokens</th>\n",
       "    </tr>\n",
       "  </thead>\n",
       "  <tbody>\n",
       "    <tr>\n",
       "      <th>0</th>\n",
       "      <td>32.7 % of all households were made up of indiv...</td>\n",
       "      <td>[32.7, %, of, all, households, were, made, up,...</td>\n",
       "    </tr>\n",
       "    <tr>\n",
       "      <th>1</th>\n",
       "      <td>A CEN forms an important but small part of a L...</td>\n",
       "      <td>[A, CEN, forms, an, important, but, small, par...</td>\n",
       "    </tr>\n",
       "    <tr>\n",
       "      <th>2</th>\n",
       "      <td>A Democrat , he became the youngest mayor in P...</td>\n",
       "      <td>[A, Democrat, ,, he, became, the, youngest, ma...</td>\n",
       "    </tr>\n",
       "    <tr>\n",
       "      <th>3</th>\n",
       "      <td>A cafeteria is also located on the sixth floor...</td>\n",
       "      <td>[A, cafeteria, is, also, located, on, the, six...</td>\n",
       "    </tr>\n",
       "    <tr>\n",
       "      <th>4</th>\n",
       "      <td>A casting director at the time told Scott that...</td>\n",
       "      <td>[A, casting, director, at, the, time, told, Sc...</td>\n",
       "    </tr>\n",
       "    <tr>\n",
       "      <th>...</th>\n",
       "      <td>...</td>\n",
       "      <td>...</td>\n",
       "    </tr>\n",
       "    <tr>\n",
       "      <th>636</th>\n",
       "      <td>`` Now everything '' -- such as program tradin...</td>\n",
       "      <td>[``, Now, everything, '', --, such, as, progra...</td>\n",
       "    </tr>\n",
       "    <tr>\n",
       "      <th>637</th>\n",
       "      <td>`` The bottom line is that if we can get that ...</td>\n",
       "      <td>[``, The, bottom, line, is, that, if, we, can,...</td>\n",
       "    </tr>\n",
       "    <tr>\n",
       "      <th>638</th>\n",
       "      <td>`` The only people who are flying are those wh...</td>\n",
       "      <td>[``, The, only, people, who, are, flying, are,...</td>\n",
       "    </tr>\n",
       "    <tr>\n",
       "      <th>639</th>\n",
       "      <td>`` To allow this massive level of unfettered f...</td>\n",
       "      <td>[``, To, allow, this, massive, level, of, unfe...</td>\n",
       "    </tr>\n",
       "    <tr>\n",
       "      <th>640</th>\n",
       "      <td>`` We were oversold and today we bounced back .</td>\n",
       "      <td>[``, We, were, oversold, and, today, we, bounc...</td>\n",
       "    </tr>\n",
       "  </tbody>\n",
       "</table>\n",
       "<p>641 rows × 2 columns</p>\n",
       "</div>"
      ],
      "text/plain": [
       "                                              Sentence  \\\n",
       "0    32.7 % of all households were made up of indiv...   \n",
       "1    A CEN forms an important but small part of a L...   \n",
       "2    A Democrat , he became the youngest mayor in P...   \n",
       "3    A cafeteria is also located on the sixth floor...   \n",
       "4    A casting director at the time told Scott that...   \n",
       "..                                                 ...   \n",
       "636  `` Now everything '' -- such as program tradin...   \n",
       "637  `` The bottom line is that if we can get that ...   \n",
       "638  `` The only people who are flying are those wh...   \n",
       "639  `` To allow this massive level of unfettered f...   \n",
       "640    `` We were oversold and today we bounced back .   \n",
       "\n",
       "                                                Tokens  \n",
       "0    [32.7, %, of, all, households, were, made, up,...  \n",
       "1    [A, CEN, forms, an, important, but, small, par...  \n",
       "2    [A, Democrat, ,, he, became, the, youngest, ma...  \n",
       "3    [A, cafeteria, is, also, located, on, the, six...  \n",
       "4    [A, casting, director, at, the, time, told, Sc...  \n",
       "..                                                 ...  \n",
       "636  [``, Now, everything, '', --, such, as, progra...  \n",
       "637  [``, The, bottom, line, is, that, if, we, can,...  \n",
       "638  [``, The, only, people, who, are, flying, are,...  \n",
       "639  [``, To, allow, this, massive, level, of, unfe...  \n",
       "640  [``, We, were, oversold, and, today, we, bounc...  \n",
       "\n",
       "[641 rows x 2 columns]"
      ]
     },
     "execution_count": 55,
     "metadata": {},
     "output_type": "execute_result"
    }
   ],
   "source": [
    "df_test"
   ]
  },
  {
   "cell_type": "code",
   "execution_count": 56,
   "id": "6e4b5c65",
   "metadata": {},
   "outputs": [],
   "source": [
    "embeddings_list_test = generate_embeddings(df_test)"
   ]
  },
  {
   "cell_type": "code",
   "execution_count": 57,
   "id": "ad485547",
   "metadata": {},
   "outputs": [
    {
     "name": "stdout",
     "output_type": "stream",
     "text": [
      "torch.Size([641, 63, 768])\n"
     ]
    }
   ],
   "source": [
    "# pad the embeddings to ensure uniformity across dataset as model will be trained in batches\n",
    "padded_embeddings_test = pad_sequence(embeddings_list_test, batch_first=True)\n",
    "df_test['Embeddings'] = [padded_embeddings_test[i] for i in range(padded_embeddings_test.shape[0])]\n",
    "print(padded_embeddings_test.shape)"
   ]
  },
  {
   "attachments": {},
   "cell_type": "markdown",
   "id": "3eb52639",
   "metadata": {},
   "source": [
    "### Generate Test Output"
   ]
  },
  {
   "cell_type": "code",
   "execution_count": 58,
   "id": "aa8115c2",
   "metadata": {},
   "outputs": [],
   "source": [
    "# Create the reverse mapping from index to label\n",
    "idx_to_label = {v: k for k, v in label_to_idx.items()}"
   ]
  },
  {
   "cell_type": "code",
   "execution_count": 112,
   "id": "977b1434",
   "metadata": {},
   "outputs": [],
   "source": [
    "def generate_extractions_bilstm_crf(model, padded_embeddings, df_test):\n",
    "    model.eval()\n",
    "    \n",
    "    with torch.no_grad():\n",
    "        # Forward pass through the model to get predicted tags (for CRF)\n",
    "        predicted_tags = model(padded_embeddings)  # No need to pass the mask; CRF decodes the valid outputs\n",
    "        # Since predicted_tags is a list of lists, convert it to a tensor for indexing\n",
    "        predicted_tags = torch.tensor(predicted_tags, dtype=torch.long, device=labels.device)\n",
    "\n",
    "    results = []\n",
    "    \n",
    "    for i, row in df_test.iterrows():\n",
    "        sentence = row['Sentence']\n",
    "        tokens = row['Tokens']\n",
    "        n = len(tokens)  # Number of tokens in the current sentence\n",
    "\n",
    "        predicted_labels = predicted_tags[i][:n]\n",
    "        \n",
    "        # Get valid tokens and their corresponding predictions\n",
    "        valid_tokens = tokens[:len(predicted_labels)]\n",
    "        sentence_results = []\n",
    "        \n",
    "        current_rel = []  # Store current relation tokens\n",
    "        current_time, current_loc = '', ''  # Track TIME and LOC\n",
    "        arg1_list, arg2_list = [], []  # Collect all possible ARG1 and ARG2 terms\n",
    "        arg1_pos, arg2_pos, rel_pos = -1, -1, -1  # Track positions of ARG1, ARG2, REL\n",
    "        \n",
    "        for token_index in range(len(predicted_labels)):\n",
    "            if token_index >= len(valid_tokens):\n",
    "                print(f\"Warning: token_index {token_index} is out of bounds for valid_tokens.\")\n",
    "                break  # Prevent out of range access\n",
    "            \n",
    "            predicted_class = predicted_labels[token_index]\n",
    "            \n",
    "            label = idx_to_label[predicted_class.item()]  # Convert index to label\n",
    "            \n",
    "            token = valid_tokens[token_index]  # Use the valid token\n",
    "            \n",
    "            if label == 'REL':\n",
    "                current_rel.append(token)\n",
    "                rel_pos = token_index\n",
    "            elif label == 'ARG1':\n",
    "                arg1_list.append(token)\n",
    "                arg1_pos = token_index\n",
    "            elif label == 'ARG2':\n",
    "                arg2_list.append(token)\n",
    "                arg2_pos = token_index\n",
    "            elif label == 'TIME':\n",
    "                current_time = token\n",
    "            elif label == 'LOC':\n",
    "                current_loc = token\n",
    "        \n",
    "        # Form relations based on different ARG1/ARG2 and REL patterns\n",
    "        if current_rel:\n",
    "            rel = ' '.join(current_rel)\n",
    "            \n",
    "            # Standard pattern: ARG1 before REL, ARG2 after REL\n",
    "            if arg1_pos != -1 and arg2_pos != -1 and arg1_pos < rel_pos < arg2_pos:\n",
    "                sentence_results.append(f\"{sentence}\\t1\\t{rel}\\t{' '.join(arg1_list)}\\t{' '.join(arg2_list)}\\t{current_time}\\t{current_loc}\")\n",
    "            \n",
    "            # Inverted pattern: ARG2 before REL, ARG1 after REL\n",
    "            if arg1_pos != -1 and arg2_pos != -1 and arg2_pos < rel_pos < arg1_pos:\n",
    "                sentence_results.append(f\"{sentence}\\t1\\t{rel}\\t{' '.join(arg2_list)}\\t{' '.join(arg1_list)}\\t{current_time}\\t{current_loc}\")\n",
    "            \n",
    "            # Both ARG1 and ARG2 before REL\n",
    "            if arg1_pos != -1 and arg2_pos != -1 and arg1_pos < arg2_pos < rel_pos:\n",
    "                sentence_results.append(f\"{sentence}\\t1\\t{rel}\\t{' '.join(arg1_list)}\\t{' '.join(arg2_list)}\\t{current_time}\\t{current_loc}\")\n",
    "            \n",
    "            # Both ARG1 and ARG2 after REL\n",
    "            if arg1_pos != -1 and arg2_pos != -1 and rel_pos < arg1_pos < arg2_pos:\n",
    "                sentence_results.append(f\"{sentence}\\t1\\t{rel}\\t{' '.join(arg1_list)}\\t{' '.join(arg2_list)}\\t{current_time}\\t{current_loc}\")\n",
    "        \n",
    "        # Check for incomplete relations (only ARG1 or ARG2 found)\n",
    "        if current_rel:\n",
    "            if arg1_list and not arg2_list:\n",
    "                sentence_results.append(f\"{sentence}\\t1\\t{rel}\\t{' '.join(arg1_list)}\\t\\t{current_time}\\t{current_loc}\")\n",
    "            elif arg2_list and not arg1_list:\n",
    "                sentence_results.append(f\"{sentence}\\t1\\t{rel}\\t\\t{' '.join(arg2_list)}\\t{current_time}\\t{current_loc}\")\n",
    "        \n",
    "        results.extend(sentence_results)\n",
    "\n",
    "    return results"
   ]
  },
  {
   "cell_type": "code",
   "execution_count": 113,
   "id": "52e49ebe",
   "metadata": {},
   "outputs": [],
   "source": [
    "# def extract_confidence_features(sentence, rel, arg1, arg2, tokens):\n",
    "#     features = {}\n",
    "\n",
    "#     # Check if (x, r, y) covers all words in the sentence\n",
    "#     features['covers_all_words'] = len(arg1.split()) + len(rel.split()) + len(arg2.split()) == len(tokens)\n",
    "\n",
    "#     # Check for specific prepositions in relation\n",
    "#     last_token_rel = rel.split()[-1] if rel.split() else ''\n",
    "#     features['last_prep_for'] = last_token_rel == 'for'\n",
    "#     features['last_prep_on'] = last_token_rel == 'on'\n",
    "#     features['last_prep_of'] = last_token_rel == 'of'\n",
    "#     features['last_prep_to'] = last_token_rel == 'to'\n",
    "#     features['last_prep_in'] = last_token_rel == 'in'\n",
    "\n",
    "#     # Sentence length\n",
    "#     features['short_sentence'] = len(tokens) <= 10\n",
    "#     features['medium_sentence'] = 10 < len(tokens) <= 20\n",
    "#     features['long_sentence'] = len(tokens) > 20\n",
    "\n",
    "#     # Check for WH-word to the left of the relation\n",
    "#     wh_words = ['who', 'what', 'where', 'when', 'why', 'how']\n",
    "#     features['wh_word_left'] = any(word in tokens[:tokens.index(rel.split()[0])] for word in wh_words if rel)\n",
    "\n",
    "#     # Check if r matches specific patterns (e.g., VW*P)\n",
    "#     vw_p_pattern = True  # Implement specific pattern-matching logic based on your extraction rules\n",
    "#     v_pattern = True  # Implement specific pattern-matching logic based on your extraction rules\n",
    "#     features['r_matches_vw_p'] = vw_p_pattern\n",
    "#     features['r_matches_v'] = v_pattern\n",
    "\n",
    "#     # Check if sentence starts with ARG1\n",
    "#     features['sentence_starts_with_x'] = sentence.startswith(arg1)\n",
    "\n",
    "#     # Proper noun checks for ARG1 and ARG2 (a more advanced check might use POS tagging)\n",
    "#     features['arg1_is_proper_noun'] = arg1.istitle()\n",
    "#     features['arg2_is_proper_noun'] = arg2.istitle()\n",
    "\n",
    "#     return features\n",
    "\n",
    "# def calculate_confidence(features):\n",
    "#     # Feature weights with adjustments to boost confidence for correct predictions\n",
    "#     weights = {\n",
    "#         'covers_all_words': 2.5,  # Further increased weight for covering all words\n",
    "#         'last_prep_for': 1.0,\n",
    "#         'last_prep_on': 0.9,\n",
    "#         'last_prep_of': 0.8,\n",
    "#         'short_sentence': 0.7,\n",
    "#         'wh_word_left': 0.6,\n",
    "#         'r_matches_vw_p': 0.7,\n",
    "#         'last_prep_to': 0.6,\n",
    "#         'last_prep_in': 0.5,\n",
    "#         'medium_sentence': 0.5,\n",
    "#         'sentence_starts_with_x': 0.5,\n",
    "#         'arg2_is_proper_noun': 0.4,\n",
    "#         'arg1_is_proper_noun': 0.2,\n",
    "#         'long_sentence': -0.3,\n",
    "#         'r_matches_v': -0.4,\n",
    "#         'np_left_of_x': -0.5,\n",
    "#         'prep_left_of_x': -0.5,\n",
    "#         'np_right_of_y': -0.7,\n",
    "#         'coord_conj_left_of_r': -0.9,\n",
    "#         'verb_in_rel': 0.6,  # New feature for detecting verbs in relation\n",
    "#         'valid_structure': 0.8  # New feature for valid extraction patterns\n",
    "#     }\n",
    "\n",
    "#     # Compute the weighted sum of the feature values\n",
    "#     confidence_score = sum(weights[key] * features[key] for key in features if key in weights)\n",
    "\n",
    "#     # Introduce a bias to enhance the score for correct predictions\n",
    "#     bias = 3.0  # Adjust this bias according to your needs\n",
    "#     confidence_score += bias\n",
    "\n",
    "#     # Normalize the confidence score to be between 0 and 1\n",
    "#     min_score = 0  # Minimum score can still be set to 0\n",
    "#     max_score = 10  # Adjust this based on the expected range of scores for your dataset\n",
    "#     normalized_score = (confidence_score - min_score) / (max_score - min_score) * 1\n",
    "\n",
    "#     return max(0, min(normalized_score, 1))  # Clamp the score to the range [0, 30]\n",
    "\n",
    "# def generate_extractions_bilstm_crf(model, padded_embeddings, df_test):\n",
    "#     model.eval()\n",
    "    \n",
    "#     with torch.no_grad():\n",
    "#         # Forward pass through the model to get predicted tags (for CRF)\n",
    "#         predicted_tags = model(padded_embeddings)\n",
    "#         predicted_tags = torch.tensor(predicted_tags, dtype=torch.long, device=labels.device)\n",
    "\n",
    "#     results = []\n",
    "    \n",
    "#     for i, row in df_test.iterrows():\n",
    "#         sentence = row['Sentence']\n",
    "#         tokens = row['Tokens']\n",
    "#         n = len(tokens)  # Number of tokens in the current sentence\n",
    "\n",
    "#         predicted_labels = predicted_tags[i][:n]\n",
    "        \n",
    "#         # Get valid tokens and their corresponding predictions\n",
    "#         valid_tokens = tokens[:len(predicted_labels)]\n",
    "#         sentence_results = []\n",
    "        \n",
    "#         current_rel = []  # Store current relation tokens\n",
    "#         current_time, current_loc = '', ''  # Track TIME and LOC\n",
    "#         arg1_list, arg2_list = [], []  # Collect all possible ARG1 and ARG2 terms\n",
    "#         arg1_pos, arg2_pos, rel_pos = -1, -1, -1  # Track positions of ARG1, ARG2, REL\n",
    "        \n",
    "#         for token_index in range(len(predicted_labels)):\n",
    "#             if token_index >= len(valid_tokens):\n",
    "#                 print(f\"Warning: token_index {token_index} is out of bounds for valid_tokens.\")\n",
    "#                 break\n",
    "            \n",
    "#             predicted_class = predicted_labels[token_index]\n",
    "#             label = idx_to_label[predicted_class.item()]  # Convert index to label\n",
    "#             token = valid_tokens[token_index]  # Use the valid token\n",
    "            \n",
    "#             if label == 'REL':\n",
    "#                 current_rel.append(token)\n",
    "#                 rel_pos = token_index\n",
    "#             elif label == 'ARG1':\n",
    "#                 arg1_list.append(token)\n",
    "#                 arg1_pos = token_index\n",
    "#             elif label == 'ARG2':\n",
    "#                 arg2_list.append(token)\n",
    "#                 arg2_pos = token_index\n",
    "#             elif label == 'TIME':\n",
    "#                 current_time = token\n",
    "#             elif label == 'LOC':\n",
    "#                 current_loc = token\n",
    "        \n",
    "#         # Form relations based on different ARG1/ARG2 and REL patterns\n",
    "#         if current_rel:\n",
    "#             rel = ' '.join(current_rel)\n",
    "            \n",
    "#             # Extract confidence features\n",
    "#             features = extract_confidence_features(sentence, rel, ' '.join(arg1_list), ' '.join(arg2_list), tokens)\n",
    "#             confidence_score = calculate_confidence(features) \n",
    "\n",
    "#             # Standard pattern: ARG1 before REL, ARG2 after REL\n",
    "#             if arg1_pos != -1 and arg2_pos != -1 and arg1_pos < rel_pos < arg2_pos:\n",
    "#                 sentence_results.append(f\"{sentence}\\t{confidence_score:.2f}\\t{rel}\\t{' '.join(arg1_list)}\\t{' '.join(arg2_list)}\\t{current_time}\\t{current_loc}\")\n",
    "            \n",
    "#             # Inverted pattern: ARG2 before REL, ARG1 after REL\n",
    "#             if arg1_pos != -1 and arg2_pos != -1 and arg2_pos < rel_pos < arg1_pos:\n",
    "#                 sentence_results.append(f\"{sentence}\\t{confidence_score:.2f}\\t{rel}\\t{' '.join(arg2_list)}\\t{' '.join(arg1_list)}\\t{current_time}\\t{current_loc}\")\n",
    "            \n",
    "#             # Both ARG1 and ARG2 before REL\n",
    "#             if arg1_pos != -1 and arg2_pos != -1 and arg1_pos < arg2_pos < rel_pos:\n",
    "#                 sentence_results.append(f\"{sentence}\\t{confidence_score:.2f}\\t{rel}\\t{' '.join(arg1_list)}\\t{' '.join(arg2_list)}\\t{current_time}\\t{current_loc}\")\n",
    "\n",
    "#             # Both ARG1 and ARG2 after REL\n",
    "#             if arg1_pos != -1 and arg2_pos != -1 and rel_pos < arg1_pos < arg2_pos:\n",
    "#                 sentence_results.append(f\"{sentence}\\t{confidence_score:.2f}\\t{rel}\\t{' '.join(arg1_list)}\\t{' '.join(arg2_list)}\\t{current_time}\\t{current_loc}\")\n",
    "\n",
    "#             # ARG1 and ARG2 are the same (e.g., \"ARG1 REL ARG1\")\n",
    "#             if arg1_pos != -1 and arg1_pos < rel_pos:\n",
    "#                 sentence_results.append(f\"{sentence}\\t{confidence_score:.2f}\\t{rel}\\t{' '.join(arg1_list)}\\t{' '.join(arg1_list)}\\t{current_time}\\t{current_loc}\")\n",
    "\n",
    "#             # ARG1 before REL, no ARG2\n",
    "#             if arg1_pos != -1 and arg2_pos == -1 and arg1_pos < rel_pos:\n",
    "#                 sentence_results.append(f\"{sentence}\\t{confidence_score:.2f}\\t{rel}\\t{' '.join(arg1_list)}\\t\\t{current_time}\\t{current_loc}\")\n",
    "\n",
    "#             # ARG2 before REL, no ARG1\n",
    "#             if arg2_pos != -1 and arg1_pos == -1 and arg2_pos < rel_pos:\n",
    "#                 sentence_results.append(f\"{sentence}\\t{confidence_score:.2f}\\t{rel}\\t\\t{' '.join(arg2_list)}\\t{current_time}\\t{current_loc}\")\n",
    "\n",
    "#         # Check for incomplete relations (only ARG1 or ARG2 found)\n",
    "#         if current_rel:\n",
    "#             if arg1_list and not arg2_list:\n",
    "#                 sentence_results.append(f\"{sentence}\\t{confidence_score:.2f}\\t{rel}\\t{' '.join(arg1_list)}\\t\\t{current_time}\\t{current_loc}\")\n",
    "#             elif arg2_list and not arg1_list:\n",
    "#                 sentence_results.append(f\"{sentence}\\t{confidence_score:.2f}\\t{rel}\\t\\t{' '.join(arg2_list)}\\t{current_time}\\t{current_loc}\")\n",
    "\n",
    "#         results.extend(sentence_results)\n",
    "\n",
    "#     return results"
   ]
  },
  {
   "cell_type": "code",
   "execution_count": 114,
   "id": "79d1932e",
   "metadata": {},
   "outputs": [
    {
     "name": "stdout",
     "output_type": "stream",
     "text": [
      "Test Extraction file has been created.\n"
     ]
    }
   ],
   "source": [
    "extractions = generate_extractions_bilstm_crf(model, padded_embeddings_test, df_test)\n",
    "\n",
    "# Write output extractions to a tab separated file\n",
    "with open('../CaRB/system_outputs/test/extractions.txt', 'w') as f:\n",
    "    for extraction in extractions:\n",
    "        f.write(extraction + '\\n')\n",
    "\n",
    "print(\"Test Extraction file has been created.\")"
   ]
  },
  {
   "cell_type": "code",
   "execution_count": 115,
   "id": "0500e16d",
   "metadata": {},
   "outputs": [],
   "source": [
    "# TODO: \n",
    "# 1. First clean the code comments headings markdown cells, format it\n",
    "# 2. Understand padding and all like how is training loop working\n",
    "# 3. Plot graphs for training loss etc using matplotlib (hyperparameters)\n",
    "# 4. Check the logic for CaRB labels (how to add multiple outputs)\n",
    "# 5. Add CRF layer\n",
    "# 6. Try adding grammar rules at last\n",
    "# 7. Add logistic regression model to assign confidence to the extractions."
   ]
  }
 ],
 "metadata": {
  "kernelspec": {
   "display_name": "myenv",
   "language": "python",
   "name": "python3"
  },
  "language_info": {
   "codemirror_mode": {
    "name": "ipython",
    "version": 3
   },
   "file_extension": ".py",
   "mimetype": "text/x-python",
   "name": "python",
   "nbconvert_exporter": "python",
   "pygments_lexer": "ipython3",
   "version": "3.8.9"
  },
  "vscode": {
   "interpreter": {
    "hash": "c02217268eef09e40580f0538eb6a3caa93eb128abcb037aa663604008eb0f16"
   }
  }
 },
 "nbformat": 4,
 "nbformat_minor": 5
}
